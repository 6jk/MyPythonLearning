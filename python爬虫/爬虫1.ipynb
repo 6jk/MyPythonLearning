{
 "cells": [
  {
   "cell_type": "code",
   "execution_count": null,
   "metadata": {},
   "outputs": [],
   "source": [
    "my_list = [\"西瓜\",\"芒果\",\"草莓\"]\n",
    "my_list1 = [\"abc\",1,2]\n",
    "# my_list1.append(my_list)\n",
    "my_list1.extend(my_list)\n",
    "print(my_list1)\n",
    "\n",
    "#多个返回值\n",
    "def show(a,b):\n",
    "    return a,b\n",
    "\n",
    "\n",
    "a,b = show(1,2)\n",
    "print(a,b)\n"
   ]
  },
  {
   "cell_type": "code",
   "execution_count": null,
   "metadata": {},
   "outputs": [],
   "source": [
    "import requests\n",
    "\n",
    "# 创建请求头\n",
    "headers = {\n",
    "    \"User-Agent\":'Mozilla/5.0 (Macintosh; Intel Mac OS X 10_14_6) AppleWebKit/537.36 (KHTML, like Gecko) Chrome/79.0.3945.88 Safari/537.36'\n",
    "}\n",
    "# 发送网络请求\n",
    "response = requests.get(url='https://www.baidu.com',headers = headers)\n",
    "\n",
    "# print(response.content)\n",
    "# print(response.text)\n",
    "# print(response.content.decode('utf-8'))\n",
    "\n",
    "# print(response.headers)\n",
    "\n",
    "#状态码\n",
    "print(response.status_code)"
   ]
  },
  {
   "cell_type": "code",
   "execution_count": 36,
   "metadata": {},
   "outputs": [
    {
     "name": "stdout",
     "output_type": "stream",
     "text": [
      "\n",
      "hehe\n"
     ]
    }
   ],
   "source": [
    "#win 是gbk方式读取(为了兼容不同系统)\n",
    "\n",
    "# file = open(\"1.txt\",\"r\",encoding=\"utf-8\")\n",
    "\n",
    "# content = file.read()\n",
    "# print(content)\n",
    "# file.close()\n",
    "\n",
    "# w模式:如果文件不存在,会帮助我们创建文件(在默认文件夹下面)\n",
    "# file = open(\"2.txt\",\"w\",encoding=\"utf-8\")\n",
    "# result = file.encoding\n",
    "# print(result)\n",
    "# file.write('abc')\n",
    "# file.write(\"111\")\n",
    "# file.write(\"222\")\n",
    "# file.write(\"444\")\n",
    "# file.close()\n",
    "\n",
    "# file = open(\"1.txt\",\"a\",encoding=\"utf-8\")\n",
    "# file.write(\"CCC\")\n",
    "# file.close()\n",
    "\n",
    "# file = open(\"1.txt\",\"rb\")\n",
    "# file_data = file.read()\n",
    "# print(file_data)\n",
    "\n",
    "# content = file_data.decode(\"utf-8\")\n",
    "# print(content)\n",
    "\n",
    "# file = open(\"1.txt\",\"wb\")\n",
    "# content = \"abfisufe夜色钢琴曲\"\n",
    "# file_data = content.encode(\"utf-8\")\n",
    "# file.write(file_data)\n",
    "# file.close()\n",
    "\n",
    "# file = open(\"1.txt\",\"ab\")\n",
    "# content= \"哈哈\"\n",
    "# file_data = content.encode(\"utf-8\")\n",
    "# file.write(file_data)\n",
    "# file.close()\n",
    "\n",
    "file = open(\"1.txt\",\"r+\",encoding=\"utf-8\")\n",
    "result = file.read()\n",
    "print(result)\n",
    "file.write(\"\\n哈哈\")\n",
    "\n",
    "file.close()\n",
    "\n"
   ]
  },
  {
   "cell_type": "code",
   "execution_count": null,
   "metadata": {},
   "outputs": [],
   "source": []
  }
 ],
 "metadata": {
  "kernelspec": {
   "display_name": "Python 3",
   "language": "python",
   "name": "python3"
  },
  "language_info": {
   "codemirror_mode": {
    "name": "ipython",
    "version": 3
   },
   "file_extension": ".py",
   "mimetype": "text/x-python",
   "name": "python",
   "nbconvert_exporter": "python",
   "pygments_lexer": "ipython3",
   "version": "3.7.4"
  },
  "toc": {
   "base_numbering": 1,
   "nav_menu": {},
   "number_sections": true,
   "sideBar": true,
   "skip_h1_title": false,
   "title_cell": "Table of Contents",
   "title_sidebar": "Contents",
   "toc_cell": false,
   "toc_position": {},
   "toc_section_display": true,
   "toc_window_display": false
  }
 },
 "nbformat": 4,
 "nbformat_minor": 2
}
