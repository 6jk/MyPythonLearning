{
 "nbformat": 4,
 "nbformat_minor": 2,
 "metadata": {
  "language_info": {
   "name": "python",
   "codemirror_mode": {
    "name": "ipython",
    "version": 3
   },
   "version": "3.7.4-final"
  },
  "orig_nbformat": 2,
  "file_extension": ".py",
  "mimetype": "text/x-python",
  "name": "python",
  "npconvert_exporter": "python",
  "pygments_lexer": "ipython3",
  "version": 3,
  "kernelspec": {
   "name": "python37464bitanaconda3virtualenv6a8ec3db138b4daa9a28355f4f9bcd20",
   "display_name": "Python 3.7.4 64-bit ('anaconda3': virtualenv)"
  }
 },
 "cells": [
  {
   "cell_type": "code",
   "execution_count": 1,
   "metadata": {},
   "outputs": [
    {
     "output_type": "stream",
     "name": "stdout",
     "text": "0    1\n1    2\n2    3\n3    4\ndtype: int64\n"
    }
   ],
   "source": [
    "import pandas as pd\n",
    "from pandas import Series,DataFrame\n",
    "import numpy as np\n",
    "\n",
    "# 创建Series对象并省略索引\n",
    "'''\n",
    "index 参数是可省略的，你可以选择不输入这个参数。\n",
    "如果不带 index 参数，Pandas 会自动用默认 index 进行索引，类似数组，索引值是 [0, ..., len(data) - 1]\n",
    "'''\n",
    "sel =  Series([1,2,3,4])\n",
    "print(sel)"
   ]
  },
  {
   "cell_type": "code",
   "execution_count": 3,
   "metadata": {},
   "outputs": [
    {
     "output_type": "stream",
     "name": "stdout",
     "text": "a    1\nb    2\nc    3\nd    4\ndtype: int64\n[1 2 3 4]\nIndex(['a', 'b', 'c', 'd'], dtype='object')\n[('a', 1), ('b', 2), ('c', 3), ('d', 4)]\n"
    }
   ],
   "source": [
    "# 通常我们会自己创建索引\n",
    "# sel =  Series(data = [1,2,3,4], index = ['a','b','c','d'])\n",
    "sel =  Series(data = [1,2,3,4], index = list('abcd'))\n",
    "print(sel)\n",
    "# # 获取内容\n",
    "print(sel.values)\n",
    "# 获取索引\n",
    "print(sel.index)\n",
    "# # 获取索引和值对\n",
    "print(list(sel.iteritems()))"
   ]
  },
  {
   "cell_type": "code",
   "execution_count": 7,
   "metadata": {},
   "outputs": [
    {
     "output_type": "stream",
     "name": "stdout",
     "text": "位置下标 300\n"
    }
   ],
   "source": [
    "# 将字典转换为Series\n",
    "#爬虫 买数据  json ---- >dict\n",
    "dict={\"red\":100,\"black\":400,\"green\":300,\"pink\":900}\n",
    "se3=Series(dict)\n",
    "print('位置下标',se3[2])"
   ]
  },
  {
   "cell_type": "code",
   "execution_count": 16,
   "metadata": {},
   "outputs": [
    {
     "output_type": "stream",
     "name": "stdout",
     "text": "a    1\nb    2\nc    3\nd    4\ndtype: int64\n索引切片 b    2\nc    3\nd    4\ndtype: int64\n"
    }
   ],
   "source": [
    "#  Series数据获取\n",
    "sel =  Series(data = [1,2,3,4], index = list('abcd'))\n",
    "print(sel)\n",
    "\n",
    "# # Series对象同时支持位置和标签两种方式获取数据\n",
    "# print('索引下标',sel['c'])\n",
    "# print('位置下标',sel[2])\n",
    "\n",
    "# # # 获取不连续的数据\n",
    "# print('索引下标',sel[['a','c']])\n",
    "# print('位置下标',sel[[1,3]])\n",
    "\n",
    "# # 可以使用切片或取数据\n",
    "# print('位置切片',sel[1:3])# 左包含右不包含\n",
    "print('索引切片',sel['b':'d'])# 左右都包含"
   ]
  },
  {
   "cell_type": "code",
   "execution_count": 20,
   "metadata": {},
   "outputs": [
    {
     "output_type": "stream",
     "name": "stdout",
     "text": "a    1\nb    2\nc    3\nd    4\ndtype: int64\n0    10\n1    11\n2    12\n3    13\n4    14\ndtype: int64\n0    10\n1    11\n4    14\ndtype: int64\n"
    }
   ],
   "source": [
    "sel =  Series(data = [1,2,3,4], index = list('abcd'))\n",
    "print(sel)\n",
    "\n",
    "# 重新赋值索引的值\n",
    "# sel.index = list('dcba')\n",
    "\n",
    "# print(sel)\n",
    "\n",
    "# # ReIndex重新索引,会返回一个新的Series(调用reindex将会重新排序，缺失值则用NaN填补)\n",
    "#值的发生改变,规律,查找一下规律\n",
    "# print(sel.reindex(['b','a','c','d','e']))\n",
    "\n",
    "sel = pd.Series(range(10,15))\n",
    "print(sel)\n",
    "print(sel.drop([2,3])) #drop丢弃指定轴上的项"
   ]
  },
  {
   "cell_type": "code",
   "execution_count": 25,
   "metadata": {},
   "outputs": [
    {
     "output_type": "stream",
     "name": "stdout",
     "text": "Accra        NaN\nDelhi        NaN\nHongKong     NaN\nHumbai       NaN\nLondon       1.0\nlagos       24.0\ndtype: float64\nb    6\nd    5\ndtype: int64\na     2\nb    12\nc     6\nd    10\ndtype: int64\na     1\nb    36\nc     9\nd    25\ndtype: int64\n"
    }
   ],
   "source": [
    "'''\n",
    "对 Series 的算术运算都是基于 index 进行的。\n",
    "我们可以用加减乘除（+ - * /）这样的运算符对两个 Series 进行运算，\n",
    "Pandas 将会根据索引 index，对响应的数据进行计算，结果将会以浮点数的形式存储，以避免丢失精度。\n",
    "如果 Pandas 在两个 Series 里找不到相同的 index，对应的位置就返回一个空值 NaN\n",
    "'''\n",
    "\n",
    "series1 = pd.Series([1,2,3,4],['London','HongKong','Humbai','lagos'])\n",
    "series2 = pd.Series([1,3,6,4],['London','Accra','lagos','Delhi'])\n",
    "\n",
    "# print(series1-series2)\n",
    "# print(series1+series2)\n",
    "print(series1*series2)\n",
    "\n",
    "# # 同样也支持numpy的数组运算\n",
    "sel =  Series(data = [1,6,3,5], index = list('abcd'))\n",
    "print(sel[sel>3]) # 布尔数组过滤\n",
    "print(sel*2) # 标量乘法\n",
    "print(np.square(sel)) # 可以直接加入到numpy的数学函数\n",
    ""
   ]
  },
  {
   "cell_type": "code",
   "execution_count": 10,
   "metadata": {},
   "outputs": [
    {
     "output_type": "stream",
     "name": "stdout",
     "text": "a  b  c  d\n1  4  8  0  7\n2  3  4  7  4\n3  0  1  1  6\n4  6  8  1  9\n    Province  pop  year\n1  Guangdong  1.3  2018\n2    Beijing  2.5  2018\n3    Qinghai  1.1  2018\n4     Fujian  0.7  2018\n   a  b\n0  1  4\n1  2  5\n2  3  6\n"
    }
   ],
   "source": [
    "# 1. 创建DataFrame\n",
    "# 使用二维数组 index 行索引 columns列索引\n",
    "import pandas as pd\n",
    "from pandas import DataFrame\n",
    "import numpy as np\n",
    "df1 = DataFrame(np.random.randint(0,10,(4,4)),index=[1,2,3,4],columns=['a','b','c','d'])\n",
    "print(df1)\n",
    "\n",
    "# # 使用字典创建(行索引由index决定，列索引由字典的键决定)\n",
    "dict={\n",
    "    'Province': ['Guangdong', 'Beijing', 'Qinghai', 'Fujian'],\n",
    "    'pop': [1.3, 2.5, 1.1, 0.7],\n",
    "    'year': [2018, 2018, 2018, 2018]}\n",
    "df2=pd.DataFrame(dict,index=[1,2,3,4])\n",
    "print(df2)\n",
    "\n",
    "# 使用from_dict\n",
    "dict2={\"a\":[1,2,3],\"b\":[4,5,6]}\n",
    "df6=pd.DataFrame.from_dict(dict2)\n",
    "print(df6)"
   ]
  },
  {
   "cell_type": "code",
   "execution_count": 12,
   "metadata": {},
   "outputs": [
    {
     "output_type": "stream",
     "name": "stdout",
     "text": "Name Age country\na   zs  10      中国\nb   ls  20      韩国\nc   we  30      日本\nd  NaN  40     NaN\n{'Name': {'a': 'zs', 'b': 'ls', 'c': 'we', 'd': nan}, 'Age': {'a': '10', 'b': '20', 'c': '30', 'd': '40'}, 'country': {'a': '中国', 'b': '韩国', 'c': '日本', 'd': nan}}\n"
    }
   ],
   "source": [
    "#索引相同的情况下，相同索引的值会相对应，缺少的值会添加NaN\n",
    "data = {\n",
    "    'Name':pd.Series(['zs','ls','we'],index=['a','b','c']),\n",
    "    'Age':pd.Series(['10','20','30','40'],index=['a','b','c','d']),\n",
    "    'country':pd.Series(['中国','日本','韩国'],index=['a','c','b'])\n",
    "}\n",
    "\n",
    "df = pd.DataFrame(data)\n",
    "print(df)\n",
    "# to_dict()方法将DataFrame对象转换为字典\n",
    "dict = df.to_dict()\n",
    "print(dict)"
   ]
  },
  {
   "cell_type": "code",
   "execution_count": 37,
   "metadata": {},
   "outputs": [
    {
     "output_type": "stream",
     "name": "stdout",
     "text": "name age national\n0     James  18       us\n1     Curry  20    China\n2  Iversion  19       us\n-----\n       name\n1     Curry\n2  Iversion\n"
    }
   ],
   "source": [
    "import pandas as pd\n",
    "from pandas import Series,DataFrame\n",
    "import numpy as np\n",
    "\n",
    "# dataframe常用属性\n",
    "df_dict = {\n",
    "\t'name':['James','Curry','Iversion'],\n",
    "\t'age':['18','20','19'],\n",
    "\t'national':['us','China','us']\n",
    "}\n",
    "df = pd.DataFrame(data=df_dict,index=['0','1','2'])\n",
    "print(df)\n",
    "# # 获取行数和列数\n",
    "# print(df.shape)\n",
    "\n",
    "# # # 获取行索引\n",
    "# print(df.index.tolist())\n",
    "\n",
    "# # # 获取列索引\n",
    "# print(df.columns.tolist())\n",
    "# 获取数据的类型\n",
    "# print(df.dtypes)\n",
    "\n",
    "# 获取数据的维度\n",
    "# print(df.ndim)\n",
    "\n",
    "# # values属性也会以二维ndarray的形式返回DataFrame的数据\n",
    "# print(df.values)\n",
    "\n",
    "# 展示df的概览\n",
    "# print(df.info())\n",
    "\n",
    "# 显示头几行,默认显示5行\n",
    "# print(df.head(2))\n",
    "# # 显示后几行\n",
    "# print(df.tail(1))\n",
    "\n",
    "# 获取DataFrame的列\n",
    "print('-----')\n",
    "# print(df['name'])\n",
    "# #因为我们只获取一列，所以返回的就是一个 Series\n",
    "# print(type(df['name']))\n",
    "\n",
    "# 如果获取多个列，那返回的就是一个 DataFrame 类型：\n",
    "# print(df[['name','age']])\n",
    "# print(type(df[['name','age']]))\n",
    "\n",
    "# # # 获取一行\n",
    "# print(df[0:1])\n",
    "\n",
    "# # # 去多行\n",
    "# print(df[1:3])\n",
    "# 取多行里面的某一列（不能进行多行多列的选择坑）\n",
    "print(df[1:3][['name']])"
   ]
  },
  {
   "cell_type": "code",
   "execution_count": 62,
   "metadata": {},
   "outputs": [
    {
     "output_type": "stream",
     "name": "stdout",
     "text": "name age national\n0     James  18       us\n1     Curry  20    China\n2  Iversion  19       us\n----\n       name age national\n0     panda  18       us\n1     Curry  20    China\n2  Iversion  19       us\n       name age national\n1     Curry  20    China\n2  Iversion  19       us\n0     panda  18       us\n"
    }
   ],
   "source": [
    "# dataframe常用属性\n",
    "df_dict = {\n",
    "\t'name':['James','Curry','Iversion'],\n",
    "\t'age':['18','20','19'],\n",
    "\t'national':['us','China','us']\n",
    "}\n",
    "df = pd.DataFrame(data=df_dict,index=['0','1','2'])\n",
    "print(df)\n",
    "print('----')\n",
    "\n",
    "'''\n",
    "df.loc 通过标签索引行数据\n",
    "df.iloc 通过位置获取行数据\n",
    "'''\n",
    "# 获取某一行某一列的数据\n",
    "# print(df.loc['0','name'])\n",
    "\n",
    "# # 一行所有列\n",
    "# print(df.loc['0',:])\n",
    "\n",
    "# # 某一行多列的数据\n",
    "# print(df.loc['0',['name','age']])\n",
    "\n",
    "# # 选择间隔的多行多列\n",
    "# print(df.loc[['0','2'],['name','national']])\n",
    "# # 选择连续的多行和间隔的多列\n",
    "# print(df.loc['0':'2',['name','national']])\n",
    "\n",
    "# 取一行\n",
    "# print(df.iloc[1])\n",
    "\n",
    "# # # 取连续多行\n",
    "# print(df.iloc[0:2])\n",
    "\n",
    "# # 取间断的多行\n",
    "# print(df.iloc[[0,2],:])\n",
    "\n",
    "# # 取某一列\n",
    "# print(df.iloc[:,1])\n",
    "\n",
    "# # 某一个值 (第二行,第1列)\n",
    "# print(df.iloc[1,0])\n",
    "\n",
    "# # 修改值\n",
    "df.iloc[0,0]='panda'\n",
    "print(df)\n",
    "# dataframe中的排序方法\n",
    "df = df.sort_values(by='age',ascending=False)\n",
    "# ascending=False  ： 降序排列，默认是升序\n",
    "print(df)"
   ]
  },
  {
   "cell_type": "code",
   "execution_count": 68,
   "metadata": {},
   "outputs": [
    {
     "output_type": "stream",
     "name": "stdout",
     "text": "a  b  c\nbj  0  1  2\nsh  3  4  5\ngz  6  7  8\nIndex(['bj', 'sh', 'gz'], dtype='object')\n           a  b  c\nbeijing    0  1  2\nshanghai   3  4  5\nguangzhou  6  7  8\n           aa  b  c\nbj          0  1  2\nshanghai    3  4  5\nguangzhou   6  7  8\n"
    }
   ],
   "source": [
    "df1 = pd.DataFrame(np.arange(9).reshape(3, 3), index = ['bj', 'sh', 'gz'], columns=['a', 'b', 'c'])\n",
    "print(df1)\n",
    "\n",
    "# 修改 df1 的 index\n",
    "print(df1.index) # 可以打印出print的值，同时也可以为其赋值\n",
    "df1.index = ['beijing', 'shanghai', 'guangzhou']\n",
    "print(df1)\n",
    "\n",
    "\n",
    "# 自定义map函数（x是原有的行列值）\n",
    "def test_map(x):\n",
    "    \n",
    "    return x+'_ABC'\n",
    "# inplace：布尔值，默认为False。指定是否返回新的DataFrame。如果为True，则在原df上修改，返回值为None。\n",
    "# print(df1.rename(index=test_map, columns=test_map, inplace=True))\n",
    "# print(df1)\n",
    "# 同时，rename 还可以传入字典，为某个 index 单独修改名称\n",
    "df3 = df1.rename(index={'beijing':'bj'}, columns = {'a':'aa'}) \n",
    "print(df3)"
   ]
  },
  {
   "cell_type": "code",
   "execution_count": 78,
   "metadata": {},
   "outputs": [
    {
     "output_type": "stream",
     "name": "stdout",
     "text": "X  Y  S  Z\n0  0  0  a  1\n1  1  1  b  1\n2  2  2  c  2\n3  3  3  d  2\n4  4  4  e  2\n   0  0  a  1\n0  0  0  a  1\n1  1  1  b  1\n2  2  2  c  2\n3  3  3  d  2\n4  4  4  e  2\n"
    }
   ],
   "source": [
    "# 列转化为索引\n",
    "df1=pd.DataFrame({'X':range(5),'Y':range(5),'S':list(\"abcde\"),'Z':[1,1,2,2,2]})\n",
    "print(df1)\n",
    "# # 指定一列为索引 (drop=False 指定同时保留作为索引的列)\n",
    "# #将s这一列的值转换为行索引 可以设置mysql id作为例子\n",
    "# result = df1.set_index('S')\n",
    "# result.index.name=None\n",
    "# print(result)\n",
    "\n",
    "# 行转为列索引\n",
    "result = df1.set_axis(df1.iloc[0],axis=1,inplace=False)\n",
    "result.columns.name=None\n",
    "print(result)"
   ]
  },
  {
   "cell_type": "code",
   "execution_count": 14,
   "metadata": {},
   "outputs": [
    {
     "output_type": "stream",
     "name": "stdout",
     "text": "name gender  age\n0    Snow      M   22\n1  Tyrion      M   32\n2   Sansa      F   18\n3    Arya      F   14\n['name', 'gender', 'age']\n     name gender  city  age\n0    Snow      M   NaN   22\n1  Tyrion      M   NaN   32\n2   Sansa      F   NaN   18\n3    Arya      F   NaN   14\n     name gender city  age\n0    Snow      M   北京   22\n1  Tyrion      M   山西   32\n2   Sansa      F   湖北   18\n3    Arya      F   澳门   14\n     name gender  score city  age\n0    Snow      M     80   北京   22\n1  Tyrion      M     98   山西   32\n2   Sansa      F     67   湖北   18\n3    Arya      F     90   澳门   14\n"
    }
   ],
   "source": [
    "import pandas as pd\n",
    "\n",
    "# 增加数据\n",
    "df1 = pd.DataFrame([['Snow','M',22],['Tyrion','M',32],['Sansa','F',18],['Arya','F',14]],\n",
    "                   columns=['name','gender','age'])\n",
    "print(df1)\n",
    "# # 在数据框最后加上score一列\n",
    "# df1['score']=[80,98,67,90]   # 增加列的元素个数要跟原数据列的个数一样\n",
    "# print(df1)\n",
    "\n",
    "\n",
    "col_name=df1.columns.tolist()                   # 将数据框的列名全部提取出来存放在列表里\n",
    "print(col_name)\n",
    "# #给数组插入元素\n",
    "col_name.insert(2,'city')                      # 在列索引为2的位置插入一列,列名为:city，刚插入时不会有值，整列都是NaN\n",
    "\n",
    "df1=df1.reindex(columns=col_name)              # DataFrame.reindex() 对原行/列索引重新构建索引值\n",
    "print(df1)\n",
    "\n",
    "df1['city']=['北京','山西','湖北','澳门']   # 给city列赋值\n",
    "print(df1)\n",
    "\n",
    "# df中的insert,插入一列\n",
    "'''\n",
    "df.insert(iloc,column,value)\n",
    "iloc:要插入的位置\n",
    "colunm:列名\n",
    "value:值\n",
    "'''\n",
    "df1.insert(2,'score',[80,98,67,90])\n",
    "print(df1)"
   ]
  },
  {
   "cell_type": "code",
   "execution_count": 20,
   "metadata": {},
   "outputs": [
    {
     "output_type": "stream",
     "name": "stdout",
     "text": "name gender  age\n0    Snow      M   22\n1  Tyrion      M   32\n2   Sansa      F   18\n3    Arya      F   14\n    name gender  age\n0   Snow      M   22\n1    111    222  333\n2  Sansa      F   18\n3   Arya      F   14\n   name gender  age\n0  lisa      F   19\n     name gender  age\n0    Snow      M   22\n1  Tyrion      M   32\n2   Sansa      F   18\n3    Arya      F   14\n4    lisa      F   19\n"
    }
   ],
   "source": [
    "# 增加数据\n",
    "df1 = pd.DataFrame([['Snow','M',22],['Tyrion','M',32],['Sansa','F',18],['Arya','F',14]],\n",
    "                   columns=['name','gender','age'])\n",
    "print(df1)\n",
    "\n",
    "# 插入一行\n",
    "row=['111','222','333']\n",
    "df1.iloc[1]=row\n",
    "print(df1)\n",
    "\n",
    "# # 增加数据\n",
    "df1 = pd.DataFrame([['Snow','M',22],['Tyrion','M',32],['Sansa','F',18],['Arya','F',14]],\n",
    "                   columns=['name','gender','age'])\n",
    "\n",
    "# # 先创建一个DataFrame，用来增加进数据框的最后一行\n",
    "new=pd.DataFrame({'name':'lisa',\n",
    "                  'gender':'F',\n",
    "                  'age':19\n",
    "                  },index=[0])\n",
    "print(new)\n",
    "# # print(\"-------在原数据框df1最后一行新增一行，用append方法------------\")\n",
    "df1=df1.append(new,ignore_index= True)   # ignore_index=False,表示不按原来的索引，从0开始自动递增\n",
    "print(df1)"
   ]
  },
  {
   "cell_type": "code",
   "execution_count": 34,
   "metadata": {},
   "outputs": [
    {
     "output_type": "stream",
     "name": "stdout",
     "text": "one  two\n0    0    1\n1    2    3\n2    4    5\n   three  four  five  one  two\n0    0.0   1.0   2.0    0    1\n1    3.0   4.0   5.0    2    3\n2    NaN   NaN   NaN    4    5\n   five  four  one  three  two\n0   2.0   1.0  NaN    0.0  NaN\n1   5.0   4.0  NaN    3.0  NaN\n0   NaN   NaN  0.0    NaN  1.0\n1   NaN   NaN  2.0    NaN  3.0\n2   NaN   NaN  4.0    NaN  5.0\n"
    }
   ],
   "source": [
    "import numpy as np\n",
    "from pandas import Series,DataFrame\n",
    "'''\n",
    "objs:合并对象\n",
    "axis:合并方式,0按列合并,1按行合并\n",
    "ignore_index:是否忽略索引\n",
    "'''\n",
    "df1 = pd.DataFrame(np.arange(6).reshape(2,3),columns = ['three','four','five'])\n",
    "df2 = pd.DataFrame(np.arange(6).reshape(3,2),columns = ['one','two'])\n",
    "print(df2)\n",
    "#按行合并\n",
    "result = pd.concat([df1,df2],axis=1)\n",
    "print(result)\n",
    "#按列合并\n",
    "result = pd.concat([df1,df2],axis=0)\n",
    "print(result)"
   ]
  },
  {
   "cell_type": "code",
   "execution_count": 53,
   "metadata": {},
   "outputs": [
    {
     "output_type": "stream",
     "name": "stdout",
     "text": "one  two  three\n0    0    1      2\n1    3    4      5\n2    6    7      8\n   one  two  three\n0    0    1      2\n1    3    4      5\n2    6    7      8\n   two  three\n0    1      2\n1    4      5\n2    7      8\n"
    }
   ],
   "source": [
    "# DataFrame的删除\n",
    "'''\n",
    "lables：要删除数据的标签\n",
    "axis：0表示删除行，1表示删除列，默认0\n",
    "inplace:是否在当前df中执行此操作\n",
    "'''\n",
    "df2 = pd.DataFrame(np.arange(9).reshape(3,3),columns=['one','two','three'])\n",
    "print(df2)\n",
    "#删除一列\n",
    "df3=df2.drop(['one'],axis=1)\n",
    "# df3=df2.drop([0,1],axis=0, inplace=False)\n",
    "print(df2)\n",
    "print(df3)"
   ]
  },
  {
   "cell_type": "code",
   "execution_count": 47,
   "metadata": {},
   "outputs": [
    {
     "output_type": "stream",
     "name": "stdout",
     "text": "0    4.0\n1    NaN\n2    8.0\n3    NaN\n4    5.0\ndtype: float64\n0    False\n1     True\n2    False\n3     True\n4    False\ndtype: bool\n1   NaN\n3   NaN\ndtype: float64\n"
    }
   ],
   "source": [
    "from numpy import nan as NaN\n",
    "# 通过**dropna()**滤除缺失数据：\n",
    "se=pd.Series([4,NaN,8,NaN,5])\n",
    "print(se)\n",
    "# print(se.dropna())\n",
    "\n",
    "# print(se.notnull())\n",
    "print(se.isnull())\n",
    "print(se[se.isnull()])"
   ]
  },
  {
   "cell_type": "code",
   "execution_count": 59,
   "metadata": {},
   "outputs": [
    {
     "output_type": "stream",
     "name": "stdout",
     "text": "0    1    2\n0  1.0  2.0  3.0\n1  NaN  NaN  2.0\n2  NaN  NaN  NaN\n3  8.0  8.0  NaN\n     0    1    2\n0  1.0  2.0  3.0\n1  NaN  NaN  2.0\n2  NaN  NaN  NaN\n3  8.0  8.0  NaN\n     0    1    2\n0  1.0  2.0  3.0\n3  8.0  8.0  NaN\n"
    }
   ],
   "source": [
    "# 2.2 处理DataFrame对象\n",
    "df1=pd.DataFrame([[1,2,3],[NaN,NaN,2],[NaN,NaN,NaN],[8,8,NaN]])\n",
    "print(df1)\n",
    "\n",
    "# 默认滤除所有包含NaN：\n",
    "# print(df1.dropna())\n",
    "\n",
    "# 传入how=‘all’滤除全为NaN的行：\n",
    "# print(df1.dropna(how='all')) # 默认情况下是how='any'，只要有nan就删除\n",
    "\n",
    "# 传入axis=1滤除列：\n",
    "print(df1.dropna(axis=1,how='all'))\n",
    "#传入thresh=n保留至少有n个非NaN数据的行：\n",
    "print(df1.dropna(thresh=2))"
   ]
  },
  {
   "cell_type": "code",
   "execution_count": 66,
   "metadata": {},
   "outputs": [
    {
     "output_type": "stream",
     "name": "stdout",
     "text": "0    1    2\n0  1.0  2.0  3.0\n1  NaN  NaN  2.0\n2  NaN  NaN  NaN\n3  8.0  8.0  NaN\nNone\n     0    1    2\n0  1.0  2.0  3.0\n1  NaN  5.0  2.0\n2  NaN  5.0  NaN\n3  8.0  8.0  NaN\n"
    }
   ],
   "source": [
    "# 2.3 填充缺失数据\n",
    "df1=pd.DataFrame([[1,2,3],[NaN,NaN,2],[NaN,NaN,NaN],[8,8,NaN]])\n",
    "print(df1)\n",
    "\n",
    "# 用常数填充fillna\n",
    "# print(df1.fillna(0))\n",
    "\n",
    "#传入inplace=True直接修改原对象：\n",
    "# df1.fillna(0,inplace=True)\n",
    "# print(df1)\n",
    "\n",
    "# 通过字典填充不同的常数(按照列数)\n",
    "# print(df1.fillna({0:10,1:20,2:30})) \n",
    "\n",
    "# 填充平均值\n",
    "# print(df1.fillna(df1.mean()))\n",
    "# 如果只填充一列\n",
    "print(df1.iloc[:,1].fillna(5,inplace = True))\n",
    "print(df1)"
   ]
  },
  {
   "cell_type": "code",
   "execution_count": 77,
   "metadata": {},
   "outputs": [
    {
     "output_type": "stream",
     "name": "stdout",
     "text": "0  1  2    3    4\n0  9  3  1  0.0  8.0\n1  3  2  5  NaN  6.0\n2  0  1  5  NaN  NaN\n3  6  7  8  NaN  NaN\n4  7  6  7  0.0  0.0\n     0    1    2    3    4\n0  9.0  3.0  1.0  0.0  8.0\n1  3.0  2.0  5.0  5.0  6.0\n2  0.0  1.0  5.0  5.0  NaN\n3  6.0  7.0  8.0  8.0  NaN\n4  7.0  6.0  7.0  0.0  0.0\n"
    }
   ],
   "source": [
    "# 传入method=” “改变插值方式：\n",
    "df2=pd.DataFrame(np.random.randint(0,10,(5,5)))\n",
    "df2.iloc[1:4,3]=NaN\n",
    "df2.iloc[2:4,4]=NaN\n",
    "print(df2)\n",
    "#用前面的值来填充ffill   用后面的值来填充bfill\n",
    "# print(df2.fillna(method='ffill'))\n",
    "\n",
    "# 传入limit=” “限制填充行数：\n",
    "# print(df2.fillna(method='bfill',limit=1))\n",
    "\n",
    "# 传入axis=” “修改填充方向：\n",
    "print(df2.fillna(method=\"ffill\",limit=1,axis=1))"
   ]
  },
  {
   "cell_type": "code",
   "execution_count": 87,
   "metadata": {},
   "outputs": [
    {
     "output_type": "stream",
     "name": "stdout",
     "text": "A  B\n0  1  a\n1  1  a\n2  1  a\n3  2  b\n4  2  b\n5  3  c\n6  1  a\n0    False\n1     True\n2     True\n3    False\n4     True\n5    False\n6     True\ndtype: bool\n   A  B\n0  1  a\n3  2  b\n5  3  c\n"
    }
   ],
   "source": [
    "#2.4移除重复数据\n",
    "df1 = pd.DataFrame({'A':[1,1,1,2,2,3,1],'B':list('aaabbca')})\n",
    "print(df1)\n",
    "\n",
    "print(df1.duplicated())  #判断是否重复\n",
    "\n",
    "# print(df1.drop_duplicates()) #all\n",
    "# print(df1.drop_duplicates('B'))#指定列去掉重复行\n",
    "\n",
    "# print(df1.drop_duplicates(['A'],keep='last')) #保留重复行中的最后一行\n",
    "df1.drop_duplicates(['A','B'],inplace= True)\n",
    "print(df1)"
   ]
  },
  {
   "cell_type": "code",
   "execution_count": 93,
   "metadata": {},
   "outputs": [
    {
     "output_type": "stream",
     "name": "stdout",
     "text": "a  期中    105\n   期末    132\nb  期中     27\n   期末     40\nc  期中     85\n   期末    149\ndtype: int64\n            zs   ls   ww   zl\npython 期中  126  100   73   70\n       期末  139   24   35   83\nmath   期中   39   40   40   75\n       期末  121   75  118  130\nEn     期中  120   35  109   64\n       期末    9   97  144   74\n"
    }
   ],
   "source": [
    "import numpy as np\n",
    "import pandas as pd\n",
    "from pandas import Series,DataFrame\n",
    "\n",
    "# Series也可以创建多层索引\n",
    "# s = Series(np.random.randint(0,150,size=6),index=list('abcdef'))\n",
    "# print(s)\n",
    "s = Series(np.random.randint(0,150,size=6),\n",
    "           index=[['a','a','b','b','c','c'],['期中','期末','期中','期末','期中','期末']])\n",
    "print(s)\n",
    "\n",
    "# DataFrame创建多层索引\n",
    "df1 = DataFrame(np.random.randint(0,150,size=(6,4)),\n",
    "               columns = ['zs','ls','ww','zl'],\n",
    "               index = [['python','python','math','math','En','En'],['期中','期末','期中','期末','期中','期末']])\n",
    "print(df1)"
   ]
  },
  {
   "cell_type": "code",
   "execution_count": 94,
   "metadata": {},
   "outputs": [
    {
     "output_type": "stream",
     "name": "stdout",
     "text": "0    1    2    3\n期中 python  86   70   40   31\n期末 python  53  109   29   92\n期中 math    75   64  127    9\n期末 math    95   85   98    1\n期中 En       3  101   45  128\n期末 En      50   15  107   44\n"
    }
   ],
   "source": [
    "class1=['python','python','math','math','En','En']\n",
    "\n",
    "class2=['期中','期末','期中','期末','期中','期末']\n",
    "\n",
    "m_index2=pd.MultiIndex.from_arrays([class2,class1])\n",
    "\n",
    "df2=DataFrame(np.random.randint(0,150,(6,4)),index=m_index2)\n",
    "print(df2)"
   ]
  },
  {
   "cell_type": "code",
   "execution_count": 98,
   "metadata": {},
   "outputs": [
    {
     "output_type": "stream",
     "name": "stdout",
     "text": "0    1    2    3\npython 期中  109   25   84  134\n       期末   33  136  147   75\nmath   期中   22   63    1   64\n       期末  142   55   29   74\nEn     期中   16   58   73   52\n       期末   14   28   89  138\n"
    }
   ],
   "source": [
    "class1=['python','math','En']\n",
    "class2=['期中','期末']\n",
    "m_index2=pd.MultiIndex.from_product([class1,class2])\n",
    "df2=DataFrame(np.random.randint(0,150,(6,4)),index=m_index2)\n",
    "print(df2)"
   ]
  },
  {
   "cell_type": "code",
   "execution_count": 106,
   "metadata": {},
   "outputs": [
    {
     "output_type": "stream",
     "name": "stdout",
     "text": "a  期中    38\n   期末    81\nb  期中    61\n   期末    82\nc  期中    63\n   期末    90\ndtype: int64\n81\n"
    }
   ],
   "source": [
    "# 多层索引对象的索引操作\n",
    "# series\n",
    "s = Series(np.random.randint(0,150,size=6),\n",
    "           index=[['a','a','b','b','c','c'],['期中','期末','期中','期末','期中','期末']])\n",
    "print(s)\n",
    "# 取一个第一级索引\n",
    "# print(s['a'])\n",
    "\n",
    "# # 取多个第一级索引\n",
    "# print(s[['a','b']])\n",
    "\n",
    "# 根据索引获取值\n",
    "# print(s['a','期末'])\n",
    "\n",
    "# loc方法取值\n",
    "# print(s.loc['a'])\n",
    "# print(s.loc[['a','b']])\n",
    "# print(s.loc['a','期末'])\n",
    "\n",
    "# iloc方法取值(iloc计算的事最内层索引)\n",
    "# print(s.iloc[1])\n",
    "\n",
    "# print(s.iloc[1:4])"
   ]
  },
  {
   "cell_type": "code",
   "execution_count": 108,
   "metadata": {},
   "outputs": [
    {
     "output_type": "stream",
     "name": "stdout",
     "text": "0    1    2    3\npython 期中  11   83    8   88\n       期末  55   41   63  109\nmath   期中   3   68   65   58\n       期末  68   50  132   68\nEn     期中  69  138  132  131\n       期末  76   84  133   54\npython  期中    11\n        期末    55\nmath    期中     3\n        期末    68\nEn      期中    69\n        期末    76\nName: 0, dtype: int64\n"
    }
   ],
   "source": [
    "class1=['python','math','En']\n",
    "class2=['期中','期末']\n",
    "m_index2=pd.MultiIndex.from_product([class1,class2])\n",
    "df2=DataFrame(np.random.randint(0,150,(6,4)),index=m_index2)\n",
    "print(df2)\n",
    "print(df2[0])"
   ]
  },
  {
   "cell_type": "code",
   "execution_count": 115,
   "metadata": {},
   "outputs": [
    {
     "output_type": "stream",
     "name": "stdout",
     "text": "0    11\n1    83\n2     8\n3    88\nName: (python, 期中), dtype: int64\n"
    }
   ],
   "source": [
    "# 一级索引\n",
    "# print(df2.loc['python'])\n",
    "\n",
    "# # 多个一级索引\n",
    "# print(df2.loc[['python','math']])\n",
    "\n",
    "# 取一行\n",
    "# print(df2.loc['python','期末'])\n",
    "\n",
    "# 取一值\n",
    "# print(df2.loc['python','期末'][0])\n",
    "\n",
    "# iloc是只取最内层的索引的\n",
    "print(df2.iloc[0])  "
   ]
  },
  {
   "cell_type": "code",
   "execution_count": 123,
   "metadata": {},
   "outputs": [
    {
     "output_type": "stream",
     "name": "stdout",
     "text": "b    6\nd    5\ndtype: int64\na     2\nb    12\nc     6\nd    10\ndtype: int64\na     1\nb    36\nc     9\nd    25\ndtype: int64\n"
    }
   ],
   "source": [
    "series1 = pd.Series([1,2,3,4],['London','HongKong','Humbai','lagos'])\n",
    "series2 = pd.Series([1,3,6,4],['London','Accra','lagos','Delhi'])\n",
    "# print(series1)\n",
    "# print(series2)\n",
    "# print(series1-series2)\n",
    "# print(series1+series2)\n",
    "# print(series1*series2)\n",
    "\n",
    "# 同样也支持numpy的数组运算\n",
    "sel =  Series(data = [1,6,3,5], index = list('abcd'))\n",
    "print(sel[sel>3]) # 布尔数组过滤\n",
    "print(sel*2) # 标量乘法\n",
    "print(np.square(sel)) # 可以直接加入到numpy的数学函数"
   ]
  },
  {
   "cell_type": "code",
   "execution_count": null,
   "metadata": {},
   "outputs": [],
   "source": []
  }
 ]
}