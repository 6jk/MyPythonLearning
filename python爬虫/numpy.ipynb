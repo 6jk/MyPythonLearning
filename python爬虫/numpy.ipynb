{
 "nbformat": 4,
 "nbformat_minor": 2,
 "metadata": {
  "language_info": {
   "name": "python",
   "codemirror_mode": {
    "name": "ipython",
    "version": 3
   },
   "version": "3.7.4-final"
  },
  "orig_nbformat": 2,
  "file_extension": ".py",
  "mimetype": "text/x-python",
  "name": "python",
  "npconvert_exporter": "python",
  "pygments_lexer": "ipython3",
  "version": 3,
  "kernelspec": {
   "name": "python37464bitbasecondabc90a3bc2b6344d7b2a3674f2a84c903",
   "display_name": "Python 3.7.4 64-bit ('base': conda)"
  }
 },
 "cells": [
  {
   "cell_type": "code",
   "execution_count": 5,
   "metadata": {},
   "outputs": [
    {
     "name": "stdout",
     "output_type": "stream",
     "text": "[[1 2 3]\n [4 5 6]]\n[5 7 9]\n[ 6 15]\n21\n"
    }
   ],
   "source": [
    "import numpy as np\n",
    "\n",
    "a = np.array([[1,2,3],[4,5,6]])\n",
    "\n",
    "print(a)\n",
    "print(np.sum(a,axis=0)) # [5 7 9]\n",
    "\n",
    "print(np.sum(a,axis = 1)) # [ 6 15]\n",
    "\n",
    "print(np.sum(a))# 计算所有的值的和"
   ]
  },
  {
   "cell_type": "code",
   "execution_count": 6,
   "metadata": {},
   "outputs": [
    {
     "name": "stdout",
     "output_type": "stream",
     "text": "[[[ 0  1  2]\n  [ 3  4  5]\n  [ 6  7  8]]\n\n [[ 9 10 11]\n  [12 13 14]\n  [15 16 17]]\n\n [[18 19 20]\n  [21 22 23]\n  [24 25 26]]]\n[[27 30 33]\n [36 39 42]\n [45 48 51]]\n[[ 9 12 15]\n [36 39 42]\n [63 66 69]]\n[[ 3 12 21]\n [30 39 48]\n [57 66 75]]\n"
    }
   ],
   "source": [
    "#三维的数据\n",
    "a = np.arange(27).reshape((3,3,3))\n",
    "print(a)\n",
    "\n",
    "b = np.sum(a, axis=0) #列\n",
    "print(b)\n",
    "\n",
    "c = np.sum(a, axis=1) #行\n",
    "print(c)\n",
    "\n",
    "d = np.sum(a, axis=2) #组\n",
    "print(d)"
   ]
  },
  {
   "cell_type": "code",
   "execution_count": 7,
   "metadata": {},
   "outputs": [
    {
     "name": "stdout",
     "output_type": "stream",
     "text": "2 [0 1 2 3 4 5 6 7 8 9]\n[2 3 4 5 6 7 8 9]\n"
    }
   ],
   "source": [
    "#数组的索引和切片\n",
    "import numpy as np\n",
    "\n",
    "a = np.arange(10)\n",
    "# print(a)\n",
    "# 冒号分隔切片参数 start:stop:step 来进行切片操作\n",
    "# print(a[2:9:2])# 从索引 2 开始到索引 7 停止，间隔为 2\n",
    "\n",
    "# # 如果只放置一个参数，如 [2]，将返回与该索引相对应的单个元素\n",
    "print(a[2],a)\n",
    "\n",
    "# # 如果为 [2:]，表示从该索引开始以后的所有项都将被提取\n",
    "print(a[2:])"
   ]
  },
  {
   "cell_type": "code",
   "execution_count": 8,
   "metadata": {},
   "outputs": [
    {
     "name": "stdout",
     "output_type": "stream",
     "text": "[[ 0  1  2  3  4  5]\n [ 6  7  8  9 10 11]\n [12 13 14 15 16 17]\n [18 19 20 21 22 23]]\n[0 7 9]\n"
    }
   ],
   "source": [
    "#多维数组操作方法\n",
    "import numpy as np\n",
    "t1 = np.arange(24).reshape(4,6)\n",
    "print(t1)\n",
    "# print('*'*20)\n",
    "# print(t1[1]) # 取一行(一行代表是一条数据，索引也是从0开始的)\n",
    "# print(t1[1,:]) # 取一行[行][列]\n",
    "#取出连续的多行\n",
    "# print(t1[1:])\n",
    "# print(t1[1:3,:])#取出连续多行\n",
    "\n",
    "#取出不连续多行\n",
    "# print(t1[[0,2,3]])\n",
    "\n",
    "# print(t1[[0,2,3],:])\n",
    "#取一列\n",
    "# print(t1[:,1])\n",
    "#连续多列\n",
    "# print(t1[:,1:])\n",
    "#取出不连续的多列\n",
    "# print(t1[:,[0,2,3]])#[:行:,:列:]\n",
    "#取出某一个值(3行4列)\n",
    "# print(t1[2,3])\n",
    "#取出多个不连续的值3个值[行,行,行][列,列,列]\n",
    "print(t1[[0,1,1],[0,1,3]])    "
   ]
  },
  {
   "cell_type": "code",
   "execution_count": 6,
   "metadata": {},
   "outputs": [
    {
     "name": "stdout",
     "output_type": "stream",
     "text": "[[ 0  1  2  3  4  5]\n [ 6  7  8  9 10 11]\n [12 13 14 15 16 17]\n [18 19 20 21 22 23]]\n[[False  True]\n [ True  True]\n [False  True]]\n"
    }
   ],
   "source": [
    "import numpy as np\n",
    "t = np.arange(24).reshape(4,6)\n",
    "print(t)\n",
    "# 修改某一行的值\n",
    "# t[1,:]=0\n",
    "\n",
    "# # 修改某一列的值\n",
    "# t[:,1]=0\n",
    "\n",
    "# # 修改连续多行\n",
    "# t[1:3,:]=0\n",
    "\n",
    "# # 修改连续多列\n",
    "# t[:,1:4]=0\n",
    "\n",
    "# # 修改多行多列，取第二行到第四行，第三列到第五列\n",
    "# t[1:4,2:5]=0\n",
    "\n",
    "# # 修改多个不相邻的点\n",
    "# t[[0,1],[0,3]]=5\n",
    "\n",
    "# # 可以根据条件修改，比如讲小于10的值改掉\n",
    "# t[t<10]=0\n",
    "# print(t)\n",
    "\n",
    "# t[(t>2)&(t<6)]=0   # 与\n",
    "# t[(t<2)|(t>6)]=0   # 或\n",
    "# t[~(t>6)]=0   # 非\n",
    "# print(t)\n",
    "\n",
    "# 拓展\n",
    "# 三目运算（ np.where(condition, x, y)满足条件(condition)，输出x，不满足输出y。)）\n",
    "score = np.array([[80,88],[82,81],[75,81]])\n",
    "result = np.where(score>80,True,False)\n",
    "print(result)"
   ]
  },
  {
   "cell_type": "code",
   "execution_count": 11,
   "metadata": {},
   "outputs": [
    {
     "name": "stdout",
     "output_type": "stream",
     "text": "第一个数组：\n[[1 2 3]\n [4 5 6]]\n\n\n向数组添加元素：\n[1 2 3 4 5 6 7 8 9]\n\n\n沿轴 0 添加元素：\n[[1 2 3]\n [4 5 6]\n [7 8 9]]\n\n\n沿轴 1 添加元素：\n[[1 2 3 5 5 5]\n [4 5 6 7 8 9]]\n"
    }
   ],
   "source": [
    "# --------数组的添加删除去重-----------\n",
    "a = np.array([[1,2,3],[4,5,6]])\n",
    " \n",
    "print ('第一个数组：')\n",
    "print (a)\n",
    "print ('\\n')\n",
    " \n",
    "print ('向数组添加元素：')\n",
    "print (np.append(a, [7,8,9]))\n",
    "print ('\\n')\n",
    "\n",
    "print ('沿轴 0 添加元素：')\n",
    "print (np.append(a, [[7,8,9]],axis = 0))\n",
    "print ('\\n')\n",
    "\n",
    "print ('沿轴 1 添加元素：')\n",
    "print (np.append(a, [[5,5,5],[7,8,9]],axis = 1))\n",
    " "
   ]
  },
  {
   "cell_type": "code",
   "execution_count": 15,
   "metadata": {},
   "outputs": [
    {
     "name": "stdout",
     "output_type": "stream",
     "text": "第一个数组：\n[[1 2]\n [3 4]\n [5 6]]\n\n\n未传递 Axis 参数。 在插入之前输入数组会被展开。\n[ 1  2  3 11 12  4  5  6]\n\n\n传递了 Axis 参数。 会广播值数组来配输入数组。\n沿轴 0 广播：\n[[ 1  2]\n [ 3  4]\n [11 11]\n [ 5  6]]\n\n\n沿轴 1 广播：\n[[ 1 11  2]\n [ 3 11  4]\n [ 5 11  6]]\n"
    }
   ],
   "source": [
    "a = np.array([[1,2],[3,4],[5,6]])\n",
    " \n",
    "print ('第一个数组：')\n",
    "print (a)\n",
    "print ('\\n')\n",
    " \n",
    "print ('未传递 Axis 参数。 在插入之前输入数组会被展开。')\n",
    "print (np.insert(a,3,[11,12]))\n",
    "print ('\\n')\n",
    "print ('传递了 Axis 参数。 会广播值数组来配输入数组。')\n",
    "\n",
    "print ('沿轴 0 广播：')\n",
    "print (np.insert(a,2,[11],axis = 0))\n",
    "print ('\\n')\n",
    "print ('沿轴 1 广播：')\n",
    "print (np.insert(a,1,11,axis = 1))"
   ]
  },
  {
   "cell_type": "code",
   "execution_count": 17,
   "metadata": {},
   "outputs": [
    {
     "name": "stdout",
     "output_type": "stream",
     "text": "第一个数组：\n[[ 0  1  2  3]\n [ 4  5  6  7]\n [ 8  9 10 11]]\n\n\n未传递 Axis 参数。 在删除之前输入数组会被展开。\n[ 0  1  2  3  4  6  7  8  9 10 11]\n\n\n[[ 0  2  3]\n [ 4  6  7]\n [ 8 10 11]]\n\n\n"
    }
   ],
   "source": [
    "a = np.arange(12).reshape(3,4)\n",
    " \n",
    "print ('第一个数组：')\n",
    "print (a)\n",
    "print ('\\n')\n",
    " \n",
    "print ('未传递 Axis 参数。 在删除之前输入数组会被展开。')\n",
    "print (np.delete(a,5))\n",
    "print ('\\n')\n",
    " \n",
    "# print ('删除每一行中的第二列：')\n",
    "print (np.delete(a,1,axis = 1))\n",
    "print ('\\n')"
   ]
  },
  {
   "cell_type": "code",
   "execution_count": 22,
   "metadata": {},
   "outputs": [
    {
     "name": "stdout",
     "output_type": "stream",
     "text": "第一个数组：\n[5 2 6 2 7 5 6 8 2 9]\n\n\n第一个数组的去重值：\n[2 5 6 7 8 9]\n\n\n去重数组的索引数组：\n[2 5 6 7 8 9]\n[1 0 2 4 7 9]\n\n\n去重数组的下标：\n[2 5 6 7 8 9]\n[1 0 2 0 3 1 2 4 0 5]\n\n\n返回去重元素的重复数量：\n[2 5 6 7 8 9]\n[3 2 2 1 1 1]\n"
    }
   ],
   "source": [
    "# 数组去重\n",
    "a = np.array([5,2,6,2,7,5,6,8,2,9])\n",
    " \n",
    "print ('第一个数组：')\n",
    "print (a)\n",
    "print ('\\n')\n",
    " \n",
    "print ('第一个数组的去重值：')\n",
    "u = np.unique(a)\n",
    "print (u)\n",
    "print ('\\n')\n",
    "\n",
    "print ('去重数组的索引数组：')\n",
    "u,indices = np.unique(a, return_index = True)\n",
    "print(u)\n",
    "print (indices)\n",
    "print ('\\n')\n",
    " \n",
    "print ('去重数组的下标：')\n",
    "u,indices = np.unique(a,return_inverse = True)\n",
    "print (u)\n",
    "print (indices)\n",
    "print ('\\n')\n",
    "\n",
    "print ('返回去重元素的重复数量：')\n",
    "u,indices = np.unique(a,return_counts = True)\n",
    "print (u)\n",
    "print (indices)"
   ]
  },
  {
   "cell_type": "code",
   "execution_count": 46,
   "metadata": {},
   "outputs": [
    {
     "name": "stdout",
     "output_type": "stream",
     "text": "[[1 2 3]\n [5 7 9]]\n[[ 1  3  6]\n [ 4  9 15]]\n[0 1 0]\n[2.94392029 3.29983165]\n13\n"
    }
   ],
   "source": [
    "import numpy as np\n",
    "score = np.array([[80,88],[82,81],[75,81]])\n",
    "\n",
    "result = np.max(score)\n",
    "# print(result)\n",
    "\n",
    "result = np.max(score,axis = 1)\n",
    "# print(result)\n",
    "\n",
    "result = np.min(score)\n",
    "# print(result)\n",
    "\n",
    "result = np.min(score,axis = 0)\n",
    "# print(result)\n",
    "\n",
    "result = np.mean(score)\n",
    "# print(result)\n",
    "result = np.mean(score,axis = 1)\n",
    "# print(result)\n",
    "\n",
    "#返回给定axis累计和\n",
    "arr = np.array([[1,2,3],[4,5,6]])\n",
    "print(arr.cumsum(0))  \n",
    "print(arr.cumsum(1)) \n",
    "\n",
    "# argmin求最小索引\n",
    "result = np.argmin(score,axis=1)\n",
    "print(result)\n",
    "\n",
    "# 标准差\n",
    "result = np.std(score,axis=0)\n",
    "print(result)\n",
    "\n",
    "#极值 最大值和最小值的差\n",
    "print(np.ptp(score))"
   ]
  },
  {
   "cell_type": "code",
   "execution_count": 47,
   "metadata": {},
   "outputs": [
    {
     "name": "stdout",
     "output_type": "stream",
     "text": "沿轴 0 连接两个数组：\n[[1 2]\n [3 4]\n [5 6]\n [7 8]]\n\n\n沿轴 1 连接两个数组：\n[[1 2 5 6]\n [3 4 7 8]]\n"
    }
   ],
   "source": [
    "# 1. 根据轴连接的数组序列\n",
    "a = np.array([[1,2],[3,4]])\n",
    "b = np.array([[5,6],[7,8]])\n",
    " \n",
    "# 要求a,b两个数组的维度相同\n",
    "print ('沿轴 0 连接两个数组：')\n",
    "print (np.concatenate((a,b),axis= 0))\n",
    "print ('\\n')\n",
    "print ('沿轴 1 连接两个数组：')\n",
    "print (np.concatenate((a,b),axis = 1))"
   ]
  },
  {
   "cell_type": "code",
   "execution_count": 54,
   "metadata": {},
   "outputs": [
    {
     "name": "stdout",
     "output_type": "stream",
     "text": "[array([[0, 1, 2]]), array([[3, 4, 5]]), array([[6, 7, 8]])]\n原array: [[7. 8. 3. 2. 9. 4.]\n [6. 5. 2. 8. 2. 9.]]\n拆分后: [array([[7., 8., 3., 2., 9., 4.]]), array([[6., 5., 2., 8., 2., 9.]])]\n"
    }
   ],
   "source": [
    "# 数组的分割\n",
    "arr = np.arange(9).reshape(3,3)\n",
    "b= np.split(arr,3)\n",
    "print(b)\n",
    "\n",
    "harr = np.floor(10*np.random.random((2,6)))\n",
    "print('原array:',harr)\n",
    "print('拆分后:',np.vsplit(harr,2))"
   ]
  },
  {
   "cell_type": "code",
   "execution_count": 55,
   "metadata": {},
   "outputs": [
    {
     "name": "stdout",
     "output_type": "stream",
     "text": "nan <class 'float'>\ninf <class 'float'>\n[[ 0.  1.  2.  3.  4.  5.]\n [ 6.  7.  8.  9. 10. 11.]\n [12. 13. 14. 15. 16. 17.]\n [18. 19. 20. 21. 22. 23.]]\n[[ 0.  1.  2.  3.  4.  5.]\n [ 6.  7.  8.  9. 10. 11.]\n [12. 13. 14. 15. 16. 17.]\n [18. 19. 20. 21. nan 23.]]\n1\n[36. 40. 44. 48. 30. 56.]\n"
    }
   ],
   "source": [
    "# 创建一个nan和inf\n",
    "a = np.nan\n",
    "b = np.inf\n",
    "print(a,type(a))\n",
    "print(b,type(b))\n",
    "\n",
    "# # --判断数组中为nan的个数(注意：float类型的数据才能赋值nan)\n",
    "t = np.arange(24,dtype=float).reshape(4,6)\n",
    "print(t)\n",
    "\n",
    "#nan数据进行操作的 (nan--->0 nan --->平均值)\n",
    "# 可以使用np.count_nonzero() 来判断非零的个数\n",
    "# print(np.count_nonzero(t))\n",
    "\n",
    "# # 将三行四列的数改成nan\n",
    "t[3,4] = np.nan\n",
    "print(t)\n",
    "# nan 和nan 不相等\n",
    "# 并且 np.nan != np.nan  结果 是TRUE\n",
    "\n",
    "# # 所以我们可以使用这两个结合使用判断nan的个数\n",
    "print(np.count_nonzero(t != t))\n",
    "t[np.isnan(t)]=0\n",
    "# print(t)\n",
    "#注意:任何数与nan计算都是nan\n",
    "print(np.sum(t,axis=0))"
   ]
  },
  {
   "cell_type": "code",
   "execution_count": 59,
   "metadata": {},
   "outputs": [
    {
     "name": "stdout",
     "output_type": "stream",
     "text": "[[ 0.  1.  2.  3.  4.  5.]\n [ 6.  7.  8. nan nan nan]\n [12. 13. 14. 15. 16. 17.]\n [18. 19. 20. 21. 22. 23.]]\n6\n[ 0.  6. 12. 18.]\n[ 1.  7. 13. 19.]\n[ 2.  8. 14. 20.]\n[ 3. nan 15. 21.]\n[ 3. 15. 21.]\n[ 4. nan 16. 22.]\n[ 4. 16. 22.]\n[ 5. nan 17. 23.]\n[ 5. 17. 23.]\n[[ 0.  1.  2.  3.  4.  5.]\n [ 6.  7.  8. 13. 14. 15.]\n [12. 13. 14. 15. 16. 17.]\n [18. 19. 20. 21. 22. 23.]]\n"
    }
   ],
   "source": [
    "#----------练习： 处理数组中nan\n",
    "t = np.arange(24).reshape(4,6).astype('float') \n",
    "# 将数组中的一部分替换nan(故意做假数据)\n",
    "t[1,3:] = np.nan\n",
    "print(t)\n",
    "# 遍历每一列，然后判断每一列是否有nan\n",
    "#6\n",
    "print(t.shape[1])\n",
    "\n",
    "for i in range(t.shape[1]):\n",
    "    #获取当前列数据\n",
    "    temp_col = t[:,i]\n",
    "    print(temp_col)\n",
    "\n",
    "    # 判断当前列的数据中是否含有nan\n",
    "    nan_num = np.count_nonzero(temp_col != temp_col) \n",
    "\n",
    "    if nan_num != 0: # 条件成立说明含有nan\n",
    "\n",
    "#         # 将这一列不为nan的数据拿出来\n",
    "        temp_col_not_nan = temp_col[temp_col==temp_col]\n",
    "        print(temp_col_not_nan)\n",
    "        # 将nan替换成这一列的平均值\n",
    "        temp_col[np.isnan(temp_col)] = np.mean(temp_col_not_nan)\n",
    "\n",
    "print(t)"
   ]
  },
  {
   "cell_type": "code",
   "execution_count": 61,
   "metadata": {},
   "outputs": [
    {
     "name": "stdout",
     "output_type": "stream",
     "text": "原数组：\n[[ 0  1  2  3]\n [ 4  5  6  7]\n [ 8  9 10 11]]\n\n\n对换数组：\n[[ 0  4  8]\n [ 1  5  9]\n [ 2  6 10]\n [ 3  7 11]]\n原数组：\n[[ 0  1  2  3]\n [ 4  5  6  7]\n [ 8  9 10 11]]\n\n\n转置数组：\n[[ 0  4  8]\n [ 1  5  9]\n [ 2  6 10]\n [ 3  7 11]]\n"
    }
   ],
   "source": [
    "#对换数组的维度\n",
    "\n",
    "a = np.arange(12).reshape(3,4)\n",
    " \n",
    "print ('原数组：')\n",
    "print (a )\n",
    "print ('\\n')\n",
    "\n",
    "print ('对换数组：')\n",
    "print (np.transpose(a))\n",
    "\n",
    "# 与transpose一致\n",
    "a = np.arange(12).reshape(3,4)\n",
    "print ('原数组：')\n",
    "print (a)\n",
    "print ('\\n')\n",
    " \n",
    "print ('转置数组：')\n",
    "print (a.T)"
   ]
  },
  {
   "cell_type": "code",
   "execution_count": 62,
   "metadata": {},
   "outputs": [
    {
     "name": "stdout",
     "output_type": "stream",
     "text": "原数组：\n[[ 0  1  2  3  4  5]\n [ 6  7  8  9 10 11]\n [12 13 14 15 16 17]\n [18 19 20 21 22 23]]\n\n\n调用 swapaxes 函数后的数组：\n[[ 0  6 12 18]\n [ 1  7 13 19]\n [ 2  8 14 20]\n [ 3  9 15 21]\n [ 4 10 16 22]\n [ 5 11 17 23]]\n"
    }
   ],
   "source": [
    "import numpy as np\n",
    "# 函数用于交换数组的两个轴\n",
    "t1 = np.arange(24).reshape(4,6)\n",
    "re = t1.swapaxes(1,0)\n",
    "print ('原数组：')\n",
    "print (t1)\n",
    "print ('\\n')\n",
    "\n",
    "print ('调用 swapaxes 函数后的数组：')\n",
    "print (re)"
   ]
  }
 ]
}