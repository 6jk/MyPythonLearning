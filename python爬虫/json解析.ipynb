{
 "nbformat": 4,
 "nbformat_minor": 2,
 "metadata": {
  "language_info": {
   "name": "python",
   "codemirror_mode": {
    "name": "ipython",
    "version": 3
   },
   "version": "3.7.4-final"
  },
  "orig_nbformat": 2,
  "file_extension": ".py",
  "mimetype": "text/x-python",
  "name": "python",
  "npconvert_exporter": "python",
  "pygments_lexer": "ipython3",
  "version": 3,
  "kernelspec": {
   "name": "python37464bitanaconda3virtualenv6a8ec3db138b4daa9a28355f4f9bcd20",
   "display_name": "Python 3.7.4 64-bit ('anaconda3': virtualenv)"
  }
 },
 "cells": [
  {
   "source": [
    "from lxml import etree\n",
    "\n",
    "data_str = \"\"\"\n",
    "        <div>\n",
    "            <ul>\n",
    "                 <li class=\"item-0\"><a href=\"link1.html\">first item</a></li>\n",
    "                 <li class=\"item-1\"><a href=\"link2.html\">second item</a></li>\n",
    "                 <li class=\"item-inactive\"><a href=\"link3.html\">third item</a></li>\n",
    "                 <li class=\"item-1\"><a href=\"link4.html\">fourth item</a></li>\n",
    "                 <li class=\"item-0\"><a href=\"link5.html\">fifth item</a>\n",
    "             </ul>\n",
    "         </div>\n",
    "        \"\"\"\n",
    "\n",
    "# 利用etree.HTML可以将字符串或者bytes转化为Element python对象，这个对象具有Xpath的方法\n",
    "html = etree.HTML(data_str)\n",
    "print(html)\n",
    "\n",
    "# etree.tostring(html)可以自动修正HTML代码，补全了缺胳膊少腿的标签\n",
    "# 使用为了观察修改以后的html样子，根据修改后的HTML去写Xpath\n",
    "result = etree.tostring(html)\n",
    "print(result.decode(\"utf-8\"))\n",
    "# 获取class =item-1 的 a标签的href属性\n",
    "#所有满足条件的值都会返回list[] \n",
    "# result = html.xpath('//li[@class=\"item-1\"]/a/@href')\n",
    "# print(result)\n",
    "# 获取class =item-1 的 a标签的文本值\n",
    "result1 = html.xpath('//li[@class=\"item-1\"]/a/text()')\n",
    "result2 = html.xpath('//li[@class=\"item-1\"]/a/@href')\n",
    "print(result1)\n",
    "print(result2)"
   ],
   "cell_type": "code",
   "outputs": [
    {
     "output_type": "stream",
     "name": "stdout",
     "text": "<Element html at 0x10a0ea3c0>\n<html><body><div>\n            <ul>\n                 <li class=\"item-0\"><a href=\"link1.html\">first item</a></li>\n                 <li class=\"item-1\"><a href=\"link2.html\">second item</a></li>\n                 <li class=\"item-inactive\"><a href=\"link3.html\">third item</a></li>\n                 <li class=\"item-1\"><a href=\"link4.html\">fourth item</a></li>\n                 <li class=\"item-0\"><a href=\"link5.html\">fifth item</a>\n             </li></ul>\n         </div>\n        </body></html>\n['second item', 'fourth item']\n['link2.html', 'link4.html']\n"
    }
   ],
   "metadata": {},
   "execution_count": 33
  },
  {
   "source": [
    "from lxml import etree\n",
    "import requests\n",
    "#ca证书\n",
    "#https需要增加请求头信息(反爬掉)\n",
    "#http没有反爬\n",
    "url = \"http://www.baidu.com/s?wd=python\"\n",
    "response = requests.get(url)\n",
    "print(response.text)\n",
    "#转换类型(xpath语法需要找到对应的类型才可以使用)\n",
    "html = etree.HTML(response.text)\n",
    "\n",
    "url = html.xpath('//div[@id=\"4001\"]/h3/a/@href')\n",
    "print(url)"
   ],
   "cell_type": "code",
   "outputs": [
    {
     "output_type": "stream",
     "name": "stdout",
     "text": "<!DOCTYPE html>\n<html lang=\"zh-CN\">\n<head>\n    <meta charset=\"utf-8\">\n    <title>ç¾åº¦å®å¨éªè¯</title>\n    <meta http-equiv=\"Content-Type\" content=\"text/html; charset=utf-8\">\n    <meta name=\"apple-mobile-web-app-capable\" content=\"yes\">\n    <meta name=\"apple-mobile-web-app-status-bar-style\" content=\"black\">\n    <meta name=\"viewport\" content=\"width=device-width, user-scalable=no, initial-scale=1.0, minimum-scale=1.0, maximum-scale=1.0\">\n    <meta name=\"format-detection\" content=\"telephone=no, email=no\">\n    <link rel=\"shortcut icon\" href=\"https://www.baidu.com/favicon.ico\" type=\"image/x-icon\">\n    <link rel=\"icon\" sizes=\"any\" mask href=\"https://www.baidu.com/img/baidu.svg\">\n    <meta http-equiv=\"X-UA-Compatible\" content=\"IE=Edge\">\n    <meta http-equiv=\"Content-Security-Policy\" content=\"upgrade-insecure-requests\">\n    <link rel=\"stylesheet\" href=\"https://wappass.bdimg.com/static/touch/css/api/mkdjump_8befa48.css\" />\n</head>\n<body>\n    <div class=\"timeout hide\">\n        <div class=\"timeout-img\"></div>\n        <div class=\"timeout-title\">ç½ç»ä¸ç»åï¼è¯·ç¨åéè¯</div>\n        <button type=\"button\" class=\"timeout-button\">è¿åé¦é¡µ</button>\n    </div>\n    <div class=\"timeout-feedback hide\">\n        <div class=\"timeout-feedback-icon\"></div>\n        <p class=\"timeout-feedback-title\">é®é¢åé¦</p>\n    </div>\n\n<script src=\"https://wappass.baidu.com/static/machine/js/api/mkd.js\"></script>\n<script src=\"https://wappass.bdimg.com/static/touch/js/mkdjump_2e06726.js\"></script>\n</body>\n</html>\n[]\n"
    }
   ],
   "metadata": {},
   "execution_count": 31
  },
  {
   "source": [
    "import time\n",
    "# #时间戳\n",
    "# #指现在时间到1970年01月01日00时00分00秒一共多少秒10位(13位毫秒)\n",
    "# timestamp=1565961622071\n",
    "# #将时间戳转换成当前时间\n",
    "# timeArry = time.localtime(float(timestamp/1000))\n",
    "# print(timeArry)\n",
    "# otherStyletime = time.strftime(\"%Y--%m--%d %H:%M:%S\",timeArry)\n",
    "# print(otherStyletime)\n",
    "\n",
    "#获取当前时间 --->时间戳 --->上传给腾讯服务器\n",
    "print(int(time.time()))\n",
    "now_time = int(time.time())\n",
    "#转换为毫秒\n",
    "timeStamp = now_time*1000\n",
    "\n",
    "timeArry = time.localtime(float(timeStamp/1000))\n",
    "\n",
    "otherStyletime = time.strftime(\"%Y--%m--%d %H:%M:%S\",timeArry)\n",
    "print(otherStyletime)"
   ],
   "cell_type": "code",
   "outputs": [
    {
     "output_type": "stream",
     "name": "stdout",
     "text": "1580882590\nY--02--05 14:03:10\n"
    }
   ],
   "metadata": {},
   "execution_count": 34
  },
  {
   "source": [
    "#爬取腾讯招聘网站\n",
    "import requests \n",
    "import json \n",
    "import csv #存入excle文件\n",
    "import time \n",
    " \n",
    "#https://careers.tencent.com/tencentcareer/api/post/Query?timestamp=1565961622071&keyword=python&pageIndex=1&pageSize=10&language=zh-cn&area=cn\n",
    "\n",
    "now_time = int(time.time())\n",
    "timeStamp = now_time*1000\n",
    "url = 'https://careers.tencent.com/tencentcareer/api/post/Query?timestamp={}&keyword=python&pageIndex=1&pageSize=10&language=zh-cn&area=cn'\n",
    "headers = {\n",
    "    \"User-Agent\":'Mozilla/5.0 (Macintosh; Intel Mac OS X 10_13_6) AppleWebKit/537.36 (KHTML, like Gecko) Chrome/74.0.3729.131 Safari/537.36'}\n",
    "response = requests.get(url=url.format(timeStamp),headers=headers)\n",
    "# print(response.content.decode('utf-8'))\n",
    "content = response.content.decode('utf-8')\n",
    "#需要将content(json_str)--->python对象(json_dict)\n",
    "content_dict = json.loads(content)\n",
    "# print(content_dict,type(content_dict))\n",
    "posts_list = content_dict['Data']['Posts']\n",
    "# print(posts_list)\n",
    "for value_dict in posts_list:\n",
    "    #招聘海报的名字\n",
    "    RecruitPostName = value_dict['RecruitPostName']\n",
    "    #职责\n",
    "    Responsibility = value_dict['Responsibility']\n",
    "    #最后更新时间\n",
    "    LastUpdateTime = value_dict['LastUpdateTime']\n",
    "    # print(RecruitPostName,Responsibility,LastUpdateTime)\n",
    "    in_fo_list= [RecruitPostName,Responsibility,LastUpdateTime]\n",
    "    with open('./tencent.csv','a',newline='',encoding='utf-8-sig')as f:\n",
    "        writer = csv.writer(f)\n",
    "        writer.writerow(in_fo_list)"
   ],
   "cell_type": "code",
   "outputs": [
    {
     "output_type": "stream",
     "name": "stdout",
     "text": "{\"Code\":200,\"Data\":{\"Count\":677,\"Posts\":[{\"Id\":0,\"PostId\":\"1158222216970637312\",\"RecruitPostId\":52324,\"RecruitPostName\":\"TEG13-python爬虫开发工程师\",\"CountryName\":\"中国\",\"LocationName\":\"深圳\",\"BGName\":\"TEG\",\"ProductName\":\"\",\"CategoryName\":\"技术\",\"Responsibility\":\"负责通用自助爬取平台、分布式实时爬虫服务的架构设计与开发\\n优化系统反爬、多渠道抓取和分析、内容提取等能力，从而提升抓取的效率和质量\",\"LastUpdateTime\":\"2020年01月29日\",\"PostURL\":\"http://careers.tencent.com/jobdesc.html?postId=1158222216970637312\",\"SourceID\":1,\"IsCollect\":false,\"IsValid\":true},{\"Id\":0,\"PostId\":\"1177069667957608448\",\"RecruitPostId\":53746,\"RecruitPostName\":\"TEG02-python开发工程师\",\"CountryName\":\"中国\",\"LocationName\":\"深圳\",\"BGName\":\"TEG\",\"ProductName\":\"\",\"CategoryName\":\"技术\",\"Responsibility\":\"负责网络运营DevOps平台的规划设计及开发维护，参与开发文档撰写、代码编写、调试维护等工作，并协助其他开发人员解决技术问题；\\n深入理解业务需求，并与运营人员共同对业务模型进行汇总提炼，参与系统建模工作；\\n在保障系统的稳定性，可维护性的基础上，快速响应业务需求；\",\"LastUpdateTime\":\"2020年01月20日\",\"PostURL\":\"http://careers.tencent.com/jobdesc.html?postId=1177069667957608448\",\"SourceID\":1,\"IsCollect\":false,\"IsValid\":true},{\"Id\":0,\"PostId\":\"1123175387476529152\",\"RecruitPostId\":42460,\"RecruitPostName\":\"25923-Python高级工程师（深圳）\",\"CountryName\":\"中国\",\"LocationName\":\"深圳\",\"BGName\":\"IEG\",\"ProductName\":\"\",\"CategoryName\":\"技术\",\"Responsibility\":\"负责腾讯蓝鲸PaaS后台设计与开发；\\r\\n负责腾讯游戏运维支撑相关重点SaaS后台设计与开发；\\r\\n负责腾讯蓝鲸容器管理平台产品后台设计与开发。\",\"LastUpdateTime\":\"2020年01月10日\",\"PostURL\":\"http://careers.tencent.com/jobdesc.html?postId=1123175387476529152\",\"SourceID\":1,\"IsCollect\":false,\"IsValid\":true},{\"Id\":0,\"PostId\":\"1123175931045744640\",\"RecruitPostId\":46007,\"RecruitPostName\":\"25923-Python高级工程师（上海）\",\"CountryName\":\"中国\",\"LocationName\":\"上海\",\"BGName\":\"IEG\",\"ProductName\":\"\",\"CategoryName\":\"技术\",\"Responsibility\":\"负责腾讯蓝鲸PaaS后台设计与开发；\\n负责腾讯游戏运维支撑相关重点SaaS后台设计与开发；\\n负责腾讯蓝鲸容器管理平台产品后台设计与开发。\",\"LastUpdateTime\":\"2020年01月10日\",\"PostURL\":\"http://careers.tencent.com/jobdesc.html?postId=1123175931045744640\",\"SourceID\":1,\"IsCollect\":false,\"IsValid\":true},{\"Id\":0,\"PostId\":\"1171347698364715008\",\"RecruitPostId\":53260,\"RecruitPostName\":\"TEG13-python高级开发工程师\",\"CountryName\":\"中国\",\"LocationName\":\"成都\",\"BGName\":\"TEG\",\"ProductName\":\"\",\"CategoryName\":\"技术\",\"Responsibility\":\"工作职责：\\n    主导部门运营系统的需求分析、系统设计、开发等工作;\\n\",\"LastUpdateTime\":\"2019年12月16日\",\"PostURL\":\"http://careers.tencent.com/jobdesc.html?postId=1171347698364715008\",\"SourceID\":1,\"IsCollect\":false,\"IsValid\":true},{\"Id\":0,\"PostId\":\"1161635128967958528\",\"RecruitPostId\":52597,\"RecruitPostName\":\"25923-Python后台研发工程师（深圳）\",\"CountryName\":\"中国\",\"LocationName\":\"深圳\",\"BGName\":\"IEG\",\"ProductName\":\"\",\"CategoryName\":\"技术\",\"Responsibility\":\"负责腾讯运营安全微服务架构平台开发；\\n负责腾讯运营安全海外平台开发；\\n负责腾讯运营安全策略引擎开发。\",\"LastUpdateTime\":\"2019年11月29日\",\"PostURL\":\"http://careers.tencent.com/jobdesc.html?postId=1161635128967958528\",\"SourceID\":1,\"IsCollect\":false,\"IsValid\":true},{\"Id\":0,\"PostId\":\"1193723265336479744\",\"RecruitPostId\":55027,\"RecruitPostName\":\"18435-个人账户风险分析师\",\"CountryName\":\"中国\",\"LocationName\":\"深圳\",\"BGName\":\"CDG\",\"ProductName\":\"\",\"CategoryName\":\"战略与投资\",\"Responsibility\":\"对个人支付账户进行深入调查、分析、定性，摸清交易背景及运作模式，掌握异常特征及风险水平，对风险账户进行相应处置；\\n对风险账户或异常账户进行扩散分析，了解特定群体账户大盘情况及风险规模，总结群体特征或运作模式，输出专项分析报告并提出处置方案，降低业务风险；\\n与其他安全团队保持沟通合作，不断丰富调查所需情报，提升调查分析的质量和效率；推动风险账户的线下打击与可疑账户处置方案的落地。\",\"LastUpdateTime\":\"2020年02月05日\",\"PostURL\":\"http://careers.tencent.com/jobdesc.html?postId=1193723265336479744\",\"SourceID\":1,\"IsCollect\":false,\"IsValid\":true},{\"Id\":0,\"PostId\":\"1153506912449335296\",\"RecruitPostId\":51969,\"RecruitPostName\":\"26699-智慧零售大数据开发工程师\",\"CountryName\":\"中国\",\"LocationName\":\"深圳\",\"BGName\":\"CSIG\",\"ProductName\":\"智慧零售\",\"CategoryName\":\"技术\",\"Responsibility\":\"负责智慧零售大数据开发、数据挖掘、算法平台的技术架构及建设； 负责智慧零售业务挖掘、算法应用的平台支持；\",\"LastUpdateTime\":\"2020年02月05日\",\"PostURL\":\"http://careers.tencent.com/jobdesc.html?postId=1153506912449335296\",\"SourceID\":1,\"IsCollect\":false,\"IsValid\":true},{\"Id\":0,\"PostId\":\"1224900851739398144\",\"RecruitPostId\":56986,\"RecruitPostName\":\"WXG03-小程序推荐算法工程师\",\"CountryName\":\"中国\",\"LocationName\":\"广州\",\"BGName\":\"WXG\",\"ProductName\":\"\",\"CategoryName\":\"技术\",\"Responsibility\":\"负责微信小程序内容推荐相关算法研发，通过算法优化提升整体推荐的点击率；\\n用户画像和内容画像的建设和优化；\\n针对特定场景，制定有效的召回算法；\\n从样本、特征、模型等维度不断优化排序算法；\\n紧跟工业界、学术界的前沿技术，结合实际的业务场景和工程团队协作，进行算法开发、落地，实现团队技术和业务的共同发展。\",\"LastUpdateTime\":\"2020年02月05日\",\"PostURL\":\"http://careers.tencent.com/jobdesc.html?postId=0\",\"SourceID\":1,\"IsCollect\":false,\"IsValid\":true},{\"Id\":0,\"PostId\":\"1224900815160872960\",\"RecruitPostId\":56985,\"RecruitPostName\":\"WXG03-小程序搜索算法工程师\",\"CountryName\":\"中国\",\"LocationName\":\"广州\",\"BGName\":\"WXG\",\"ProductName\":\"\",\"CategoryName\":\"技术\",\"Responsibility\":\"负责微信小程序内容搜索下各个垂类的建设和优化，包括但不限于：\\n1. 页面内容理解，包括信息抽取、分类、主题分析、词权重计算、关键词提取等；\\n2. 基础相关性和语义分析等自然语言处理相关工作；\\n3. 排序算法的研发和优化，包括LTR、点击模型等。\",\"LastUpdateTime\":\"2020年02月05日\",\"PostURL\":\"http://careers.tencent.com/jobdesc.html?postId=0\",\"SourceID\":1,\"IsCollect\":false,\"IsValid\":true}]}}\n"
    }
   ],
   "metadata": {},
   "execution_count": 37
  },
  {
   "source": [
    "'''\n",
    "分析流程：\n",
    "1.分析界面的数据来源，确定请求链接\n",
    "    (1)先获取一页，在获取多页\n",
    "2.解析网页获取数据\n",
    "3.将获取的数据进行保存\n",
    "'''\n",
    "\n",
    "import requests\n",
    "import re\n",
    "\n",
    "# 定义一个爬虫类\n",
    "class MYSpider(object):\n",
    "    def __init__(self,base_url,url_headers):\n",
    "        # 最基础的URL\n",
    "        self.base_url = base_url\n",
    "        self.headers = url_headers\n",
    "\n",
    "    # 获取第一页的内容\n",
    "    def get_onePage(self,start_num):\n",
    "        \n",
    "        # 发送请求\n",
    "        url=self.base_url.format(start_num)\n",
    "        response = requests.get(url=\"https://maoyan.com/board/1\",headers= self.headers)\n",
    "        if response.status_code == 200:\n",
    "            print(response.content.decode('utf-8'))\n",
    "        else:\n",
    "            return None\n",
    "\n",
    "    # 解析数据\n",
    "    def parse_onePage(self,html):\n",
    "          # 只取排名\n",
    "        # pattern = re.compile('<dd>.*?board-index.*?>(\\d+)</i>.*?</dd>',re.S)\n",
    "        \n",
    "#         获取排名和名字\n",
    "        pattern = re.compile('<dd>.*?board-index.*?>(\\d+)</i>.*?movie-item-info.*?>.*?<a'\n",
    "                             +'.*?title=\"(.*?)\".*?>.*?</dd>',re.S)\n",
    "        # 添加主演\n",
    "#         pattern = re.compile('<dd>.*?board-index.*?>(\\d+)</i>.*?movie-item-info.*?>.*?<a'\n",
    "#                              +'.*?title=\"(.*?)\".*?>.*?<p class=\"star\">(.*?)</p>.*?</dd>',re.S)\n",
    "        \n",
    "        # 上映时间\n",
    "#         pattern = re.compile('<dd>.*?board-index.*?>(\\d+)</i>.*?movie-item-info.*?>.*?<a'\n",
    "#                              +'.*?title=\"(.*?)\".*?>.*?<p class=\"star\">(.*?)</p>'\n",
    "#                              +'.*?<p class=\"releasetime\">(.*?)</p>.*?</dd>',re.S)\n",
    "        # 评分\n",
    "#         pattern = re.compile('<dd>.*?board-index.*?>(\\d+)</i>.*?movie-item-info.*?>.*?<a'\n",
    "#                              +'.*?title=\"(.*?)\".*?>.*?<p class=\"star\">(.*?)</p>'\n",
    "#                              +'.*?<p class=\"releasetime\">(.*?)</p>'+\n",
    "#                              '.*?<i class=\"integer\">(.*?)</i>.*?<i class=\"fraction\">(.*?)</i>.*?</dd>',re.S)\n",
    "        return re.findall(pattern,html)\n",
    "\n",
    "    # 保存数据\n",
    "    def save_date(self,data):\n",
    "        for value in data:\n",
    "            list1 = []\n",
    "            for valuedata in value:\n",
    "                list1.append(valuedata)\n",
    "            \n",
    "#             将列表内容链接成字符串\n",
    "            movestr = \" \".join(list1)+\"\\n\"\n",
    "    \n",
    "            print(movestr)\n",
    "            with open('movestr.txt','a',encoding='utf-8') as f:\n",
    "                f.write(movestr)\n",
    "\n",
    "if __name__ == \"__main__\":\n",
    "    \n",
    "    #\n",
    "    base_url = 'https://maoyan.com/board/4?offset={}'\n",
    "    headers = {\n",
    "        \"User-Agent\": \"Mozilla/5.0 (Macintosh; Intel Mac OS X 10_13_6) AppleWebKit/537.36 (KHTML, like Gecko) Chrome/74.0.3729.131 Safari/537.36\"\n",
    "    }\n",
    "    myspider = MYSpider(base_url,headers)\n",
    "    html = myspider.get_onePage(0)\n",
    "    \n",
    "    resultdata =  myspider.parse_onePage(html)\n",
    "    myspider.save_date(resultdata)\n",
    "#     print(resultdata)\n",
    "\n",
    ""
   ],
   "cell_type": "code",
   "outputs": [
    {
     "output_type": "stream",
     "name": "stdout",
     "text": "     url('//vfile.meituan.net/colorstone/1bcea5e061ca1da7548b8faa00bf5f072280.woff') format('woff');\n    }\n\n    .stonefont {\n      font-family: stonefont;\n    }\n  </style>\n  <script>\n  var _hmt = _hmt || [];\n  (function() {\n  var hm = document.createElement(\"script\");\n  hm.src = \"https://hm.baidu.com/hm.js?703e94591e87be68cc8da0da7cbd0be2\";\n  var s = document.getElementsByTagName(\"script\")[0];\n  s.parentNode.insertBefore(hm, s);\n  })();\n  </script>\n</head>\n<body>\n\n\n<div class=\"header\">\n  <div class=\"header-inner\">\n          <a href=\"//maoyan.com\" class=\"logo\" data-act=\"icon-click\"></a>\n        <div class=\"city-container\" data-val=\"{currentcityid:404 }\">\n            <div class=\"city-selected\">\n                <div class=\"city-name\">\n                  江阴\n                  <span class=\"caret\"></span>\n                </div>\n            </div>\n            <div class=\"city-list\" data-val=\"{ localcityid: 404 }\">\n                <div class=\"city-list-header\">定位城市：<a class=\"js-geo-city\">江阴</a></div>\n                \n            </div>\n        </div>\n\n\n        <div class=\"nav\">\n            <ul class=\"navbar\">\n                <li><a href=\"/\" data-act=\"home-click\"  >首页</a></li>\n                <li><a href=\"/films\" data-act=\"movies-click\" >电影</a></li>\n                <li><a href=\"/cinemas\" data-act=\"cinemas-click\" >影院</a></li> \n                <li><a href=\"http://www.gewara.com\">演出</a></li>\n                \n                <li><a href=\"/board\" data-act=\"board-click\"  class=\"active\" >榜单</a></li>\n                <li><a href=\"/news\" data-act=\"hotNews-click\" >热点</a></li>\n                <li><a href=\"/edimall\"  >商城</a></li>\n            </ul>\n        </div>\n\n        <div class=\"user-info\">\n            <div class=\"user-avatar J-login\">\n              <img src=\"https://p0.meituan.net/movie/7dd82a16316ab32c8359debdb04396ef2897.png\">\n              <span class=\"caret\"></span>\n              <ul class=\"user-menu\">\n                <li><a href=\"javascript:void 0\">登录</a></li>\n              </ul>\n            </div>\n        </div>\n\n        <form action=\"/query\" target=\"_blank\" class=\"search-form\" data-actform=\"search-click\">\n            <input name=\"kw\" class=\"search\" type=\"search\" maxlength=\"32\" placeholder=\"找影视剧、影人、影院\" autocomplete=\"off\">\n            <input class=\"submit\" type=\"submit\" value=\"\">\n        </form>\n\n        <div class=\"app-download\">\n          <a href=\"/app\" target=\"_blank\">\n            <span class=\"iphone-icon\"></span>\n            <span class=\"apptext\">APP下载</span>\n            <span class=\"caret\"></span>\n            <div class=\"download-icon\">\n                <p class=\"down-title\">扫码下载APP</p>\n                <p class='down-content'>选座更优惠</p>\n            </div>\n          </a>\n        </div>\n    \n  </div>\n</div>\n<div class=\"header-placeholder\"></div>\n\n<div class=\"subnav\">\n  <ul class=\"navbar\">\n    <li>\n      <a data-act=\"subnav-click\" data-val=\"{subnavClick:7}\"\n          href=\"/board/7\"\n      >热映口碑榜</a>\n    </li>\n    <li>\n      <a data-act=\"subnav-click\" data-val=\"{subnavClick:6}\"\n          href=\"/board/6\"\n      >最受期待榜</a>\n    </li>\n    <li>\n      <a data-act=\"subnav-click\" data-val=\"{subnavClick:1}\"\n          data-state-val=\"{subnavId:1}\"\n          class=\"active\" href=\"javascript:void(0);\"\n      >国内票房榜</a>\n    </li>\n    <li>\n      <a data-act=\"subnav-click\" data-val=\"{subnavClick:2}\"\n          href=\"/board/2\"\n      >北美票房榜</a>\n    </li>\n    <li>\n      <a data-act=\"subnav-click\" data-val=\"{subnavClick:4}\"\n          href=\"/board/4\"\n      >TOP100榜</a>\n    </li>\n  </ul>\n</div>\n\n\n    <div class=\"container\" id=\"app\" class=\"page-board/index\" >\n\n<div class=\"content\">\n    <div class=\"wrapper\">\n        <div class=\"main\">\n            <p class=\"update-time\">2020-01-22<span class=\"has-fresh-text\">已更新</span></p>\n            <p class=\"board-content\">榜单规则：将昨日国内热映的影片，按照昨日票房从高到低排列，每天上午10点更新。相关数据来源于“猫眼专业版”。</p>\n            <dl class=\"board-wrapper\">\n                <dd>\n                        <i class=\"board-index board-index-1\">1</i>\n    <a href=\"/films/1218273\" title=\"误杀\" class=\"image-link\" data-act=\"boarditem-click\" data-val=\"{movieId:1218273}\">\n      <img src=\"//s3plus.meituan.net/v1/mss_e2821d7f0cfe4ac1bf9202ecf9590e67/cdn-prod/file:5788b470/image/loading_2.e3d934bf.png\" alt=\"\" class=\"poster-default\" />\n      <img data-src=\"https://p1.meituan.net/movie/967b253953bc7e660cfadbf9d78f67b62852693.jpg@160w_220h_1e_1c\" alt=\"误杀\" class=\"board-img\" />\n    </a>\n    <div class=\"board-item-main\">\n      <div class=\"board-item-content\">\n              <div class=\"movie-item-info\">\n        <p class=\"name\"><a href=\"/films/1218273\" title=\"误杀\" data-act=\"boarditem-click\" data-val=\"{movieId:1218273}\">误杀</a></p>\n<p class=\"star\">主演：肖央,谭卓,陈冲</p><p class=\"releasetime\">上映时间：2019-12-13</p>    </div>\n    <div class=\"movie-item-number boxoffice\">\n        <p class=\"realtime\">实时票房:        <span><span class=\"stonefont\">&#xecf7;&#xe1c0;&#xe455;&#xecf7;.&#xecde;</span></span>万\n</p>\n        <p class=\"total-boxoffice\">总票房:        <span><span class=\"stonefont\">&#xecf7;&#xecf7;.&#xe388;&#xe52b;</span></span>亿\n</p>\n    </div>\n\n      </div>\n    </div>\n\n                </dd>\n                <dd>\n                        <i class=\"board-index board-index-2\">2</i>\n    <a href=\"/films/1190122\" title=\"叶问4：完结篇\" class=\"image-link\" data-act=\"boarditem-click\" data-val=\"{movieId:1190122}\">\n      <img src=\"//s3plus.meituan.net/v1/mss_e2821d7f0cfe4ac1bf9202ecf9590e67/cdn-prod/file:5788b470/image/loading_2.e3d934bf.png\" alt=\"\" class=\"poster-default\" />\n      <img data-src=\"https://p0.meituan.net/movie/a3d6ca3bdd5b0ddd7016acff9a9f2f2e2805813.jpg@160w_220h_1e_1c\" alt=\"叶问4：完结篇\" class=\"board-img\" />\n    </a>\n    <div class=\"board-item-main\">\n      <div class=\"board-item-content\">\n              <div class=\"movie-item-info\">\n        <p class=\"name\"><a href=\"/films/1190122\" title=\"叶问4：完结篇\" data-act=\"boarditem-click\" data-val=\"{movieId:1190122}\">叶问4：完结篇</a></p>\n<p class=\"star\">主演：甄子丹,吴樾,吴建豪</p><p class=\"releasetime\">上映时间：2019-12-20</p>    </div>\n    <div class=\"movie-item-number boxoffice\">\n        <p class=\"realtime\">实时票房:        <span><span class=\"stonefont\">&#xecf7;&#xe455;&#xecde;&#xe388;.&#xf7cb;</span></span>万\n</p>\n        <p class=\"total-boxoffice\">总票房:        <span><span class=\"stonefont\">&#xecf7;&#xecf7;.&#xe72b;&#xe1c0;</span></span>亿\n</p>\n    </div>\n\n      </div>\n    </div>\n\n                </dd>\n                <dd>\n                        <i class=\"board-index board-index-3\">3</i>\n    <a href=\"/films/1279731\" title=\"宠爱\" class=\"image-link\" data-act=\"boarditem-click\" data-val=\"{movieId:1279731}\">\n      <img src=\"//s3plus.meituan.net/v1/mss_e2821d7f0cfe4ac1bf9202ecf9590e67/cdn-prod/file:5788b470/image/loading_2.e3d934bf.png\" alt=\"\" class=\"poster-default\" />\n      <img data-src=\"https://p0.meituan.net/moviemachine/36eda496688542263d9a0f02ac728327823369.jpg@160w_220h_1e_1c\" alt=\"宠爱\" class=\"board-img\" />\n    </a>\n    <div class=\"board-item-main\">\n      <div class=\"board-item-content\">\n              <div class=\"movie-item-info\">\n        <p class=\"name\"><a href=\"/films/1279731\" title=\"宠爱\" data-act=\"boarditem-click\" data-val=\"{movieId:1279731}\">宠爱</a></p>\n<p class=\"star\">主演：于和伟,吴磊,张子枫</p><p class=\"releasetime\">上映时间：2019-12-31</p>    </div>\n    <div class=\"movie-item-number boxoffice\">\n        <p class=\"realtime\">实时票房:        <span><span class=\"stonefont\">&#xe388;&#xf7cb;&#xf7cb;.&#xe6be;</span></span>万\n</p>\n        <p class=\"total-boxoffice\">总票房:        <span><span class=\"stonefont\">&#xe72b;.&#xe52b;&#xecf7;</span></span>亿\n</p>\n    </div>\n\n      </div>\n    </div>\n\n                </dd>\n                <dd>\n                        <i class=\"board-index board-index-4\">4</i>\n    <a href=\"/films/1214142\" title=\"变身特工\" class=\"image-link\" data-act=\"boarditem-click\" data-val=\"{movieId:1214142}\">\n      <img src=\"//s3plus.meituan.net/v1/mss_e2821d7f0cfe4ac1bf9202ecf9590e67/cdn-prod/file:5788b470/image/loading_2.e3d934bf.png\" alt=\"\" class=\"poster-default\" />\n      <img data-src=\"https://p1.meituan.net/moviemachine/979531e95cace9abb4c6b74c6a0fdd486176654.jpg@160w_220h_1e_1c\" alt=\"变身特工\" class=\"board-img\" />\n    </a>\n    <div class=\"board-item-main\">\n      <div class=\"board-item-content\">\n              <div class=\"movie-item-info\">\n        <p class=\"name\"><a href=\"/films/1214142\" title=\"变身特工\" data-act=\"boarditem-click\" data-val=\"{movieId:1214142}\">变身特工</a></p>\n<p class=\"star\">主演：威尔·史密斯,汤姆·赫兰德,凯伦·吉兰</p><p class=\"releasetime\">上映时间：2020-01-03</p>    </div>\n    <div class=\"movie-item-number boxoffice\">\n        <p class=\"realtime\">实时票房:        <span><span class=\"stonefont\">&#xe83f;&#xe1c0;&#xe83f;.&#xe1c0;</span></span>万\n</p>\n        <p class=\"total-boxoffice\">总票房:        <span><span class=\"stonefont\">&#xf7cb;&#xe388;&#xecde;&#xecde;.&#xecde;</span></span>万\n</p>\n    </div>\n\n      </div>\n    </div>\n\n                </dd>\n                <dd>\n                        <i class=\"board-index board-index-5\">5</i>\n    <a href=\"/films/1220983\" title=\"动物特工局\" class=\"image-link\" data-act=\"boarditem-click\" data-val=\"{movieId:1220983}\">\n      <img src=\"//s3plus.meituan.net/v1/mss_e2821d7f0cfe4ac1bf9202ecf9590e67/cdn-prod/file:5788b470/image/loading_2.e3d934bf.png\" alt=\"\" class=\"poster-default\" />\n      <img data-src=\"https://p0.meituan.net/movie/584224ba10e6a450ad8d8ef35e22b8cd369031.jpg@160w_220h_1e_1c\" alt=\"动物特工局\" class=\"board-img\" />\n    </a>\n    <div class=\"board-item-main\">\n      <div class=\"board-item-content\">\n              <div class=\"movie-item-info\">\n        <p class=\"name\"><a href=\"/films/1220983\" title=\"动物特工局\" data-act=\"boarditem-click\" data-val=\"{movieId:1220983}\">动物特工局</a></p>\n<p class=\"star\">主演：姜广涛,马正阳,韩啸</p><p class=\"releasetime\">上映时间：2020-01-11</p>    </div>\n    <div class=\"movie-item-number boxoffice\">\n        <p class=\"realtime\">实时票房:        <span><span class=\"stonefont\">&#xe455;&#xe6be;&#xecf7;.&#xe455;</span></span>万\n</p>\n        <p class=\"total-boxoffice\">总票房:        <span><span class=\"stonefont\">&#xe83f;&#xecf7;&#xe455;&#xe83f;.&#xecde;</span></span>万\n</p>\n    </div>\n\n      </div>\n    </div>\n\n                </dd>\n                <dd>\n                        <i class=\"board-index board-index-6\">6</i>\n    <a href=\"/films/1281095\" title=\"紫罗兰永恒花园 外传：永远与自动手记人偶\" class=\"image-link\" data-act=\"boarditem-click\" data-val=\"{movieId:1281095}\">\n      <img src=\"//s3plus.meituan.net/v1/mss_e2821d7f0cfe4ac1bf9202ecf9590e67/cdn-prod/file:5788b470/image/loading_2.e3d934bf.png\" alt=\"\" class=\"poster-default\" />\n      <img data-src=\"https://p0.meituan.net/movie/37e835fdaf68e48dd002b6757374251d6793835.jpg@160w_220h_1e_1c\" alt=\"紫罗兰永恒花园 外传：永远与自动手记人偶\" class=\"board-img\" />\n    </a>\n    <div class=\"board-item-main\">\n      <div class=\"board-item-content\">\n              <div class=\"movie-item-info\">\n        <p class=\"name\"><a href=\"/films/1281095\" title=\"紫罗兰永恒花园 外传：永远与自动手记人偶\" data-act=\"boarditem-click\" data-val=\"{movieId:1281095}\">紫罗兰永恒花园 外传：永远与自动手记人偶</a></p>\n<p class=\"star\">主演：石川由依,茅原实里,远藤绫</p><p class=\"releasetime\">上映时间：2020-01-10</p>    </div>\n    <div class=\"movie-item-number boxoffice\">\n        <p class=\"realtime\">实时票房:        <span><span class=\"stonefont\">&#xecf7;&#xe1c0;&#xe6be;.&#xf7cb;</span></span>万\n</p>\n        <p class=\"total-boxoffice\">总票房:        <span><span class=\"stonefont\">&#xe83f;&#xe72b;&#xe83f;&#xf7cb;.&#xecde;</span></span>万\n</p>\n    </div>\n\n      </div>\n    </div>\n\n                </dd>\n                <dd>\n                        <i class=\"board-index board-index-7\">7</i>\n    <a href=\"/films/1206381\" title=\"灭绝\" class=\"image-link\" data-act=\"boarditem-click\" data-val=\"{movieId:1206381}\">\n      <img src=\"//s3plus.meituan.net/v1/mss_e2821d7f0cfe4ac1bf9202ecf9590e67/cdn-prod/file:5788b470/image/loading_2.e3d934bf.png\" alt=\"\" class=\"poster-default\" />\n      <img data-src=\"https://p0.meituan.net/movie/cb6cccf0a8231196b27f7e25fe5d51192325214.jpg@160w_220h_1e_1c\" alt=\"灭绝\" class=\"board-img\" />\n    </a>\n    <div class=\"board-item-main\">\n      <div class=\"board-item-content\">\n              <div class=\"movie-item-info\">\n        <p class=\"name\"><a href=\"/films/1206381\" title=\"灭绝\" data-act=\"boarditem-click\" data-val=\"{movieId:1206381}\">灭绝</a></p>\n<p class=\"star\">主演：迈克尔·佩纳,丽兹·卡潘,艾玛·布斯</p><p class=\"releasetime\">上映时间：2020-01-18</p>    </div>\n    <div class=\"movie-item-number boxoffice\">\n        <p class=\"realtime\">实时票房:        <span><span class=\"stonefont\">&#xecf7;&#xe1c0;&#xe455;.&#xe72b;</span></span>万\n</p>\n        <p class=\"total-boxoffice\">总票房:        <span><span class=\"stonefont\">&#xecf7;&#xe6be;&#xe72b;&#xe455;.&#xecde;</span></span>万\n</p>\n    </div>\n\n      </div>\n    </div>\n\n                </dd>\n                <dd>\n                        <i class=\"board-index board-index-8\">8</i>\n    <a href=\"/films/1219754\" title=\"鲨海逃生\" class=\"image-link\" data-act=\"boarditem-click\" data-val=\"{movieId:1219754}\">\n      <img src=\"//s3plus.meituan.net/v1/mss_e2821d7f0cfe4ac1bf9202ecf9590e67/cdn-prod/file:5788b470/image/loading_2.e3d934bf.png\" alt=\"\" class=\"poster-default\" />\n      <img data-src=\"https://p1.meituan.net/movie/54c4bfe5bbd82023b77844ed10d4e9ec1948884.jpg@160w_220h_1e_1c\" alt=\"鲨海逃生\" class=\"board-img\" />\n    </a>\n    <div class=\"board-item-main\">\n      <div class=\"board-item-content\">\n              <div class=\"movie-item-info\">\n        <p class=\"name\"><a href=\"/films/1219754\" title=\"鲨海逃生\" data-act=\"boarditem-click\" data-val=\"{movieId:1219754}\">鲨海逃生</a></p>\n<p class=\"star\">主演：苏菲·奈丽丝,科琳·福克斯,尼娅·朗</p><p class=\"releasetime\">上映时间：2020-01-10</p>    </div>\n    <div class=\"movie-item-number boxoffice\">\n        <p class=\"realtime\">实时票房:        <span><span class=\"stonefont\">&#xecf7;&#xe455;&#xecde;.&#xecf7;</span></span>万\n</p>\n        <p class=\"total-boxoffice\">总票房:        <span><span class=\"stonefont\">&#xe83f;&#xe1c0;&#xe455;&#xe52b;.&#xecde;</span></span>万\n</p>\n    </div>\n\n      </div>\n    </div>\n\n                </dd>\n                <dd>\n                        <i class=\"board-index board-index-9\">9</i>\n    <a href=\"/films/1303\" title=\"美丽人生\" class=\"image-link\" data-act=\"boarditem-click\" data-val=\"{movieId:1303}\">\n      <img src=\"//s3plus.meituan.net/v1/mss_e2821d7f0cfe4ac1bf9202ecf9590e67/cdn-prod/file:5788b470/image/loading_2.e3d934bf.png\" alt=\"\" class=\"poster-default\" />\n      <img data-src=\"https://p1.meituan.net/movie/580d81a2c78bf204f45323ddb4244b6c6821175.jpg@160w_220h_1e_1c\" alt=\"美丽人生\" class=\"board-img\" />\n    </a>\n    <div class=\"board-item-main\">\n      <div class=\"board-item-content\">\n              <div class=\"movie-item-info\">\n        <p class=\"name\"><a href=\"/films/1303\" title=\"美丽人生\" data-act=\"boarditem-click\" data-val=\"{movieId:1303}\">美丽人生</a></p>\n<p class=\"star\">主演：罗伯托·贝尼尼,尼可莱塔·布拉斯基,乔治·坎塔里尼</p><p class=\"releasetime\">上映时间：2020-01-03</p>    </div>\n    <div class=\"movie-item-number boxoffice\">\n        <p class=\"realtime\">实时票房:        <span><span class=\"stonefont\">&#xf7cb;&#xe1c0;.&#xecde;</span></span>万\n</p>\n        <p class=\"total-boxoffice\">总票房:        <span><span class=\"stonefont\">&#xe1c0;&#xe388;&#xe72b;&#xe52b;.&#xecde;</span></span>万\n</p>\n    </div>\n\n      </div>\n    </div>\n\n                </dd>\n                <dd>\n                        <i class=\"board-index board-index-10\">10</i>\n    <a href=\"/films/1228869\" title=\"半个喜剧\" class=\"image-link\" data-act=\"boarditem-click\" data-val=\"{movieId:1228869}\">\n      <img src=\"//s3plus.meituan.net/v1/mss_e2821d7f0cfe4ac1bf9202ecf9590e67/cdn-prod/file:5788b470/image/loading_2.e3d934bf.png\" alt=\"\" class=\"poster-default\" />\n      <img data-src=\"https://p0.meituan.net/movie/9064b787a533d85fa2d2f8ad486351861051512.jpg@160w_220h_1e_1c\" alt=\"半个喜剧\" class=\"board-img\" />\n    </a>\n    <div class=\"board-item-main\">\n      <div class=\"board-item-content\">\n              <div class=\"movie-item-info\">\n        <p class=\"name\"><a href=\"/films/1228869\" title=\"半个喜剧\" data-act=\"boarditem-click\" data-val=\"{movieId:1228869}\">半个喜剧</a></p>\n<p class=\"star\">主演：任素汐,吴昱翰,刘迅</p><p class=\"releasetime\">上映时间：2019-12-20</p>    </div>\n    <div class=\"movie-item-number boxoffice\">\n        <p class=\"realtime\">实时票房:        <span><span class=\"stonefont\">&#xe388;&#xf7cb;.&#xe6be;</span></span>万\n</p>\n        <p class=\"total-boxoffice\">总票房:        <span><span class=\"stonefont\">&#xecf7;.&#xe388;&#xe52b;</span></span>亿\n</p>\n    </div>\n\n      </div>\n    </div>\n\n                </dd>\n            </dl>\n\n        </div>\n    </div>\n</div>\n\n    </div>\n\n<div class=\"footer\">\n  <p class=\"friendly-links\">\n    关于猫眼 :\n    <a href=\"http://ir.maoyan.com/s/index.php#pageScroll0\" target=\"_blank\">关于我们</a>\n    <span></span>\n    <a href=\"http://ir.maoyan.com/s/index.php#pageScroll1\" target=\"_blank\">管理团队</a>\n    <span></span>\n    <a href=\"http://ir.maoyan.com/s/index.php#pageScroll2\" target=\"_blank\">投资者关系</a>\n    &nbsp;&nbsp;&nbsp;&nbsp;\n    友情链接 :\n    <a href=\"http://www.meituan.com\" data-query=\"utm_source=wwwmaoyan\" target=\"_blank\">美团网</a>\n    <span></span>\n    <a href=\"http://www.gewara.com\" data-query=\"utm_source=wwwmaoyan\">格瓦拉</a>\n    <span></span>\n    <a href=\"http://i.meituan.com/client\" data-query=\"utm_source=wwwmaoyan\" target=\"_blank\">美团下载</a>\n    <span></span>\n    <a href=\"https://www.huanxi.com\" data-query=\"utm_source=maoyan_pc\" target=\"_blank\">欢喜首映</a>\n  </p>\n  <p class=\"friendly-links\">\n    商务合作邮箱：v@maoyan.com\n    客服电话：10105335\n    违法和不良信息举报电话：4006018900\n  </p>\n  <p class=\"friendly-links\">\n    用户投诉邮箱：tousujubao@meituan.com\n    舞弊线索举报邮箱：wubijubao@maoyan.com\n  </p>\n  <p class=\"friendly-links  credentials\">\n    <a href=\"/about/licence/1\" target=\"_blank\">中华人民共和国增值电信业务经营许可证 京B2-20190350</a>\n    <span></span>\n    <a href=\"/about/licence/4\" target=\"_blank\">营业性演出许可证 京演（机构）（2019）4094号</a>\n  </p>\n  <p class=\"friendly-links  credentials\">\n    <a href=\"/about/licence/3\" target=\"_blank\">广播电视节目制作经营许可证 （京）字第08478号</a>\n    <span></span>\n    <a href=\"/about/licence/2\" target=\"_blank\">网络文化经营许可证 京网文（2019）3837-369号 </a>\n  </p>\n  <p class=\"friendly-links  credentials\">\n    <a href=\"/rules/agreement\" target=\"_blank\">猫眼用户服务协议 </a>\n    <span></span>\n    <a href=\"/rules/rule\" target=\"_blank\">猫眼平台交易规则总则 </a>\n    <span></span>\n    <a href=\"/rules/privacy\" target=\"_blank\">隐私政策 </a>\n  </p>\n  <p class=\"friendly-links  credentials\">\n    <a href=\"http://www.beian.gov.cn/portal/registerSystemInfo?recordcode=11010102003232\" target=\"_blank\">京公网安备\n      11010102003232号</a>\n    <span></span>\n    <a href=\"http://www.beian.miit.gov.cn/\" target=\"_blank\">京ICP备16022489号</a>\n  </p>\n  <p>北京猫眼文化传媒有限公司</p>\n  <p>\n    &copy;2016\n    猫眼电影 maoyan.com</p>\n  <div class=\"certificate\">\n    <a href=\"http://sq.ccm.gov.cn:80/ccnt/sczr/service/business/emark/toDetail/350CF8BCA8416C4FE0530140A8C0957E\"\n      target=\"_blank\">\n      <img src=\"http://p0.meituan.net/moviemachine/e54374ccf134d1f7b2c5b075a74fca525326.png\" />\n    </a>\n    <a href=\"/about/licence/5\" target=\"_blank\">\n      <img src=\"http://p1.meituan.net/moviemachine/805f605d5cf1b1a02a4e3a5e29df003b8376.png\" />\n    </a>\n  </div>\n</div>\n\n    <script crossorigin=\"anonymous\" src=\"//www.dpfile.com/app/owl/static/owl_1.7.11.js\"></script>\n    <script>\n      Owl.start({\n        project: 'com.sankuai.movie.fe.mywww',\n        pageUrl: location.href.split('?')[0].replace(/\\/\\d+/g, '/:id'),\n        devMode: false\n      })\n    </script>\n    <script src=\"//s0.meituan.net/bs/?f=myfe/canary:mojo-0.1.2.js\"></script>\n    <script>\n      MAInit({\n        appkey: 'com.sankuai.movie.fe.mywww',\n        app_name: 'maoyan-pc-web',\n        app_version: '1.0.0',\n      })\n    </script>\n    <!--[if IE 8]><script crossorigin=\"anonymous\" src=\"//s3plus.meituan.net/v1/mss_e2821d7f0cfe4ac1bf9202ecf9590e67/cdn-prod/file:5788b470/es5-shim.bbad933f.js\"></script><![endif]-->\n    <!--[if IE 8]><script crossorigin=\"anonymous\" src=\"//s3plus.meituan.net/v1/mss_e2821d7f0cfe4ac1bf9202ecf9590e67/cdn-prod/file:5788b470/es5-sham.d6ea26f4.js\"></script><![endif]-->\n    <script crossorigin=\"anonymous\" src=\"//s3plus.meituan.net/v1/mss_e2821d7f0cfe4ac1bf9202ecf9590e67/cdn-prod/file:5788b470/common.8a03ff06.js\"></script>\n<script crossorigin=\"anonymous\" src=\"//s3plus.meituan.net/v1/mss_e2821d7f0cfe4ac1bf9202ecf9590e67/cdn-prod/file:5788b470/board-index.e144d497.js\"></script>\n</body>\n</html>\n\n"
    },
    {
     "output_type": "error",
     "ename": "TypeError",
     "evalue": "expected string or bytes-like object",
     "traceback": [
      "\u001b[0;31m---------------------------------------------------------------------------\u001b[0m",
      "\u001b[0;31mTypeError\u001b[0m                                 Traceback (most recent call last)",
      "\u001b[0;32m<ipython-input-28-01fa18fc54b2>\u001b[0m in \u001b[0;36m<module>\u001b[0;34m\u001b[0m\n\u001b[1;32m     75\u001b[0m     \u001b[0mhtml\u001b[0m \u001b[0;34m=\u001b[0m \u001b[0mmyspider\u001b[0m\u001b[0;34m.\u001b[0m\u001b[0mget_onePage\u001b[0m\u001b[0;34m(\u001b[0m\u001b[0;36m0\u001b[0m\u001b[0;34m)\u001b[0m\u001b[0;34m\u001b[0m\u001b[0;34m\u001b[0m\u001b[0m\n\u001b[1;32m     76\u001b[0m \u001b[0;34m\u001b[0m\u001b[0m\n\u001b[0;32m---> 77\u001b[0;31m     \u001b[0mresultdata\u001b[0m \u001b[0;34m=\u001b[0m  \u001b[0mmyspider\u001b[0m\u001b[0;34m.\u001b[0m\u001b[0mparse_onePage\u001b[0m\u001b[0;34m(\u001b[0m\u001b[0mhtml\u001b[0m\u001b[0;34m)\u001b[0m\u001b[0;34m\u001b[0m\u001b[0;34m\u001b[0m\u001b[0m\n\u001b[0m\u001b[1;32m     78\u001b[0m     \u001b[0mmyspider\u001b[0m\u001b[0;34m.\u001b[0m\u001b[0msave_date\u001b[0m\u001b[0;34m(\u001b[0m\u001b[0mresultdata\u001b[0m\u001b[0;34m)\u001b[0m\u001b[0;34m\u001b[0m\u001b[0;34m\u001b[0m\u001b[0m\n\u001b[1;32m     79\u001b[0m \u001b[0;31m#     print(resultdata)\u001b[0m\u001b[0;34m\u001b[0m\u001b[0;34m\u001b[0m\u001b[0;34m\u001b[0m\u001b[0m\n",
      "\u001b[0;32m<ipython-input-28-01fa18fc54b2>\u001b[0m in \u001b[0;36mparse_onePage\u001b[0;34m(self, html)\u001b[0m\n\u001b[1;32m     49\u001b[0m \u001b[0;31m#                              +'.*?<p class=\"releasetime\">(.*?)</p>'+\u001b[0m\u001b[0;34m\u001b[0m\u001b[0;34m\u001b[0m\u001b[0;34m\u001b[0m\u001b[0m\n\u001b[1;32m     50\u001b[0m \u001b[0;31m#                              '.*?<i class=\"integer\">(.*?)</i>.*?<i class=\"fraction\">(.*?)</i>.*?</dd>',re.S)\u001b[0m\u001b[0;34m\u001b[0m\u001b[0;34m\u001b[0m\u001b[0;34m\u001b[0m\u001b[0m\n\u001b[0;32m---> 51\u001b[0;31m         \u001b[0;32mreturn\u001b[0m \u001b[0mre\u001b[0m\u001b[0;34m.\u001b[0m\u001b[0mfindall\u001b[0m\u001b[0;34m(\u001b[0m\u001b[0mpattern\u001b[0m\u001b[0;34m,\u001b[0m\u001b[0mhtml\u001b[0m\u001b[0;34m)\u001b[0m\u001b[0;34m\u001b[0m\u001b[0;34m\u001b[0m\u001b[0m\n\u001b[0m\u001b[1;32m     52\u001b[0m \u001b[0;34m\u001b[0m\u001b[0m\n\u001b[1;32m     53\u001b[0m     \u001b[0;31m# 保存数据\u001b[0m\u001b[0;34m\u001b[0m\u001b[0;34m\u001b[0m\u001b[0;34m\u001b[0m\u001b[0m\n",
      "\u001b[0;32m~/opt/anaconda3/lib/python3.7/re.py\u001b[0m in \u001b[0;36mfindall\u001b[0;34m(pattern, string, flags)\u001b[0m\n\u001b[1;32m    221\u001b[0m \u001b[0;34m\u001b[0m\u001b[0m\n\u001b[1;32m    222\u001b[0m     Empty matches are included in the result.\"\"\"\n\u001b[0;32m--> 223\u001b[0;31m     \u001b[0;32mreturn\u001b[0m \u001b[0m_compile\u001b[0m\u001b[0;34m(\u001b[0m\u001b[0mpattern\u001b[0m\u001b[0;34m,\u001b[0m \u001b[0mflags\u001b[0m\u001b[0;34m)\u001b[0m\u001b[0;34m.\u001b[0m\u001b[0mfindall\u001b[0m\u001b[0;34m(\u001b[0m\u001b[0mstring\u001b[0m\u001b[0;34m)\u001b[0m\u001b[0;34m\u001b[0m\u001b[0;34m\u001b[0m\u001b[0m\n\u001b[0m\u001b[1;32m    224\u001b[0m \u001b[0;34m\u001b[0m\u001b[0m\n\u001b[1;32m    225\u001b[0m \u001b[0;32mdef\u001b[0m \u001b[0mfinditer\u001b[0m\u001b[0;34m(\u001b[0m\u001b[0mpattern\u001b[0m\u001b[0;34m,\u001b[0m \u001b[0mstring\u001b[0m\u001b[0;34m,\u001b[0m \u001b[0mflags\u001b[0m\u001b[0;34m=\u001b[0m\u001b[0;36m0\u001b[0m\u001b[0;34m)\u001b[0m\u001b[0;34m:\u001b[0m\u001b[0;34m\u001b[0m\u001b[0;34m\u001b[0m\u001b[0m\n",
      "\u001b[0;31mTypeError\u001b[0m: expected string or bytes-like object"
     ]
    }
   ],
   "metadata": {},
   "execution_count": 28
  },
  {
   "cell_type": "code",
   "execution_count": null,
   "metadata": {},
   "outputs": [],
   "source": []
  }
 ]
}