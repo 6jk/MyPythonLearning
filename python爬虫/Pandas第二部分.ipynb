{
 "nbformat": 4,
 "nbformat_minor": 2,
 "metadata": {
  "language_info": {
   "name": "python",
   "codemirror_mode": {
    "name": "ipython",
    "version": 3
   },
   "version": "3.7.4-final"
  },
  "orig_nbformat": 2,
  "file_extension": ".py",
  "mimetype": "text/x-python",
  "name": "python",
  "npconvert_exporter": "python",
  "pygments_lexer": "ipython3",
  "version": 3,
  "kernelspec": {
   "name": "python37464bitanaconda3virtualenv6a8ec3db138b4daa9a28355f4f9bcd20",
   "display_name": "Python 3.7.4 64-bit ('anaconda3': virtualenv)"
  }
 },
 "cells": [
  {
   "cell_type": "code",
   "execution_count": 6,
   "metadata": {},
   "outputs": [
    {
     "name": "stdout",
     "output_type": "stream",
     "text": "A  B\n0  1  a\n1  1  a\n2  1  b\n3  2  b\n4  2  b\n5  3  c\n6  1  a\n   A  B\n0  1  a\n2  1  b\n3  2  b\n5  3  c\n"
    }
   ],
   "source": [
    "import pandas as pd\n",
    "from pandas import Series,DataFrame\n",
    "import numpy as np\n",
    "from numpy import nan as NaN\n",
    "\n",
    "# 2.4 移除重复数据(提前预习)\n",
    "'''\n",
    "DataFrame中经常会出现重复行，利用duplicated()函数返回每一行判断是否重复的结果（重复则为True)\n",
    "'''\n",
    "df1=pd.DataFrame({'A':[1,1,1,2,2,3,1],'B':list(\"aabbbca\")})\n",
    "print(df1)\n",
    "\n",
    "# 判断每一行是否重复(结果是bool值，TRUE代表重复的)\n",
    "# print(df1.duplicated())\n",
    "\n",
    "# 去除全部的重复行\n",
    "# print(df1.drop_duplicates())\n",
    "\n",
    "# # 指定列去除重复行\n",
    "# print(df1.drop_duplicates(['A']))\n",
    "\n",
    "# 保留重复行中的最后一行\n",
    "# print(df1.drop_duplicates(['A'],keep='last'))\n",
    "\n",
    "# 去除重复的同时改变DataFrame对象\n",
    "# df1.drop_duplicates(['A','B'],inplace=True)\n",
    "# print(df1)"
   ]
  },
  {
   "cell_type": "code",
   "execution_count": 10,
   "metadata": {},
   "outputs": [
    {
     "name": "stdout",
     "output_type": "stream",
     "text": "DatetimeIndex(['2019-05-01', '2019-05-11', '2019-05-21', '2019-05-31',\n               '2019-06-10', '2019-06-20', '2019-06-30', '2019-07-10',\n               '2019-07-20'],\n              dtype='datetime64[ns]', freq='10D')\n"
    }
   ],
   "source": [
    "import pandas as pd\n",
    "import numpy as np\n",
    "\n",
    "# date = pd.date_range(start='20190501',end='20190530')\n",
    "# print(date)\n",
    "\n",
    "# freq：日期偏移量，取值为string, 默认为'D'，  freq='1h30min'  freq='10D'\n",
    "# periods：固定时期，取值为整数或None\n",
    "date = pd.date_range(start='20190501',periods=9,freq='10D')\n",
    "print(date)"
   ]
  },
  {
   "cell_type": "code",
   "execution_count": 29,
   "metadata": {},
   "outputs": [
    {
     "name": "stdout",
     "output_type": "stream",
     "text": "2019-01-01    1.505571\n2019-01-02    1.244858\n2019-01-03    0.722854\n2019-01-04    0.335378\n2019-01-05    0.418097\n                ...   \n2021-09-22    0.671539\n2021-09-23   -0.431119\n2021-09-24   -1.373896\n2021-09-25   -0.753824\n2021-09-26    0.472108\nFreq: D, Length: 1000, dtype: float64\n2020-01-01    0.672923\n2020-01-02    0.060664\n2020-01-03   -0.640461\n2020-01-04    0.584159\n2020-01-05   -0.145267\n                ...   \n2020-12-27    0.276416\n2020-12-28    0.200271\n2020-12-29    0.577008\n2020-12-30    0.783797\n2020-12-31    1.746344\nFreq: D, Length: 366, dtype: float64\n2020-05-01    0.683537\n2020-05-02   -0.878146\n2020-05-03    0.924046\n2020-05-04    0.855280\n2020-05-05    0.015640\n2020-05-06    0.691936\nFreq: D, dtype: float64\nDatetimeIndex(['2018-03-17 00:00:00', '2018-03-17 02:00:00',\n               '2018-03-17 04:00:00', '2018-03-17 06:00:00',\n               '2018-03-17 08:00:00', '2018-03-17 10:00:00',\n               '2018-03-17 12:00:00', '2018-03-17 14:00:00',\n               '2018-03-17 16:00:00', '2018-03-17 18:00:00',\n               ...\n               '2018-03-29 06:00:00', '2018-03-29 08:00:00',\n               '2018-03-29 10:00:00', '2018-03-29 12:00:00',\n               '2018-03-29 14:00:00', '2018-03-29 16:00:00',\n               '2018-03-29 18:00:00', '2018-03-29 20:00:00',\n               '2018-03-29 22:00:00', '2018-03-30 00:00:00'],\n              dtype='datetime64[ns]', length=157, freq='2H')\n2018-03-17 08:00:00    1.513553\n2018-03-17 10:00:00    1.680942\n2018-03-17 12:00:00   -0.077190\n2018-03-17 14:00:00   -0.284429\n2018-03-17 16:00:00    0.910161\n                         ...   \n2018-03-29 08:00:00   -0.916695\n2018-03-29 10:00:00   -1.311727\n2018-03-29 12:00:00    1.137954\n2018-03-29 14:00:00   -0.965898\n2018-03-29 16:00:00   -0.496724\nLength: 65, dtype: float64\n                   0         1         2         3\n2019-01-01 -1.289033  0.485058 -0.348138  0.646952\n2019-01-02  0.629767  0.105090  1.440390  0.161109\n2019-01-03 -0.427950 -0.682864 -1.781353  1.330645\n2019-01-04  1.916087  1.968282  0.828685 -0.605121\n2019-01-05  1.330494 -1.017574  1.291848 -0.710929\n...              ...       ...       ...       ...\n2019-04-06  0.051393  0.099283  1.938125  2.105758\n2019-04-07  0.468971  0.302505  1.094421  1.425164\n2019-04-08 -0.298372  1.155846  0.058653 -0.697436\n2019-04-09  1.206884 -0.904565 -1.740672 -0.752014\n2019-04-10  0.071308  0.131720  2.006524 -1.047357\n\n[100 rows x 4 columns]\n                   0         1         2         3\n2019-04-01 -2.959164 -0.796213  0.733412 -0.607613\n2019-04-02  0.874485  0.453188  0.101445  1.842939\n2019-04-03  0.547276  1.050833  0.225722  0.126025\n2019-04-04 -2.123362 -0.220534 -0.164776  2.016100\n2019-04-05 -1.251813 -0.396019 -1.507420  0.056900\n2019-04-06  0.051393  0.099283  1.938125  2.105758\n2019-04-07  0.468971  0.302505  1.094421  1.425164\n2019-04-08 -0.298372  1.155846  0.058653 -0.697436\n2019-04-09  1.206884 -0.904565 -1.740672 -0.752014\n2019-04-10  0.071308  0.131720  2.006524 -1.047357\n"
    }
   ],
   "source": [
    "# 可以将时间作为索引\n",
    "# index = pd.date_range(start='20190101',periods=10)\n",
    "# df = pd.Series(np.random.randint(0,10,size = 10),index=index)\n",
    "# print(df)\n",
    "\n",
    "# truncate这个函数将before指定日期之前的值全部过滤出去,after指定日期之前的值全部过滤出去.\n",
    "# after = df.truncate(before='2019-01-8')\n",
    "# print(after)\n",
    "\n",
    "long_ts = pd.Series(np.random.randn(1000),index=pd.date_range('1/1/2019',periods=1000))\n",
    "print(long_ts)\n",
    "# 根据年份获取\n",
    "result = long_ts['2020']\n",
    "print(result)\n",
    "\n",
    "# 使用切片\n",
    "result = long_ts['2020-05-01':'2020-05-06']\n",
    "print(result)\n",
    "\n",
    "# 通过between_time()返回位于指定时间段的数据集\n",
    "index=pd.date_range(\"2018-03-17\",\"2018-03-30\",freq=\"2H\")\n",
    "print(index)\n",
    "ts = pd.Series(np.random.randn(157),index=index)\n",
    "print(ts.between_time(\"7:00\",\"17:00\"))\n",
    "\n",
    "index=pd.date_range('1/1/2019',periods=100)\n",
    "df = pd.DataFrame(np.random.randn(100,4),index=index)\n",
    "print(df)\n",
    "print(df.loc['2019-04'])"
   ]
  },
  {
   "cell_type": "code",
   "execution_count": 39,
   "metadata": {},
   "outputs": [
    {
     "name": "stdout",
     "output_type": "stream",
     "text": "2018-12-30    0.050541\n2018-12-31   -0.335799\n2019-01-01   -0.591523\n2019-01-02   -0.169902\n2019-01-03    0.571288\n2019-01-04   -1.431147\n2019-01-05   -1.035527\n2019-01-06   -0.969785\n2019-01-07   -1.268609\n2019-01-08   -0.576720\nFreq: D, dtype: float64\n2018-12-28    0.050541\n2018-12-29   -0.335799\n2018-12-30   -0.591523\n2018-12-31   -0.169902\n2019-01-01    0.571288\n2019-01-02   -1.431147\n2019-01-03   -1.035527\n2019-01-04   -0.969785\n2019-01-05   -1.268609\n2019-01-06   -0.576720\nFreq: D, dtype: float64\n"
    }
   ],
   "source": [
    "## 6. 移位日期\n",
    "ts = pd.Series(np.random.randn(10),index=pd.date_range('1/1/2019',periods=10))\n",
    "# print(ts)\n",
    "\n",
    "# 移动数据，索引不变，默认由NaN填充\n",
    "# periods: 移动的位数 负数是向上移动\n",
    "# fill_value: 移动后填充数据\n",
    "# freq： 日期偏移量 \n",
    "ts = ts.shift(periods=-2,freq='D')\n",
    "print(ts)\n",
    "# # 通过tshift()将索引移动指定的时间：\n",
    "ts = ts.tshift(-2)\n",
    "print(ts)"
   ]
  },
  {
   "cell_type": "code",
   "execution_count": 44,
   "metadata": {},
   "outputs": [
    {
     "name": "stdout",
     "output_type": "stream",
     "text": "['Africa/Abidjan', 'Africa/Accra', 'Africa/Addis_Ababa', 'Africa/Algiers', 'Africa/Asmara', 'Africa/Bamako', 'Africa/Bangui', 'Africa/Banjul', 'Africa/Bissau', 'Africa/Blantyre', 'Africa/Brazzaville', 'Africa/Bujumbura', 'Africa/Cairo', 'Africa/Casablanca', 'Africa/Ceuta', 'Africa/Conakry', 'Africa/Dakar', 'Africa/Dar_es_Salaam', 'Africa/Djibouti', 'Africa/Douala', 'Africa/El_Aaiun', 'Africa/Freetown', 'Africa/Gaborone', 'Africa/Harare', 'Africa/Johannesburg', 'Africa/Juba', 'Africa/Kampala', 'Africa/Khartoum', 'Africa/Kigali', 'Africa/Kinshasa', 'Africa/Lagos', 'Africa/Libreville', 'Africa/Lome', 'Africa/Luanda', 'Africa/Lubumbashi', 'Africa/Lusaka', 'Africa/Malabo', 'Africa/Maputo', 'Africa/Maseru', 'Africa/Mbabane', 'Africa/Mogadishu', 'Africa/Monrovia', 'Africa/Nairobi', 'Africa/Ndjamena', 'Africa/Niamey', 'Africa/Nouakchott', 'Africa/Ouagadougou', 'Africa/Porto-Novo', 'Africa/Sao_Tome', 'Africa/Tripoli', 'Africa/Tunis', 'Africa/Windhoek', 'America/Adak', 'America/Anchorage', 'America/Anguilla', 'America/Antigua', 'America/Araguaina', 'America/Argentina/Buenos_Aires', 'America/Argentina/Catamarca', 'America/Argentina/Cordoba', 'America/Argentina/Jujuy', 'America/Argentina/La_Rioja', 'America/Argentina/Mendoza', 'America/Argentina/Rio_Gallegos', 'America/Argentina/Salta', 'America/Argentina/San_Juan', 'America/Argentina/San_Luis', 'America/Argentina/Tucuman', 'America/Argentina/Ushuaia', 'America/Aruba', 'America/Asuncion', 'America/Atikokan', 'America/Bahia', 'America/Bahia_Banderas', 'America/Barbados', 'America/Belem', 'America/Belize', 'America/Blanc-Sablon', 'America/Boa_Vista', 'America/Bogota', 'America/Boise', 'America/Cambridge_Bay', 'America/Campo_Grande', 'America/Cancun', 'America/Caracas', 'America/Cayenne', 'America/Cayman', 'America/Chicago', 'America/Chihuahua', 'America/Costa_Rica', 'America/Creston', 'America/Cuiaba', 'America/Curacao', 'America/Danmarkshavn', 'America/Dawson', 'America/Dawson_Creek', 'America/Denver', 'America/Detroit', 'America/Dominica', 'America/Edmonton', 'America/Eirunepe', 'America/El_Salvador', 'America/Fort_Nelson', 'America/Fortaleza', 'America/Glace_Bay', 'America/Godthab', 'America/Goose_Bay', 'America/Grand_Turk', 'America/Grenada', 'America/Guadeloupe', 'America/Guatemala', 'America/Guayaquil', 'America/Guyana', 'America/Halifax', 'America/Havana', 'America/Hermosillo', 'America/Indiana/Indianapolis', 'America/Indiana/Knox', 'America/Indiana/Marengo', 'America/Indiana/Petersburg', 'America/Indiana/Tell_City', 'America/Indiana/Vevay', 'America/Indiana/Vincennes', 'America/Indiana/Winamac', 'America/Inuvik', 'America/Iqaluit', 'America/Jamaica', 'America/Juneau', 'America/Kentucky/Louisville', 'America/Kentucky/Monticello', 'America/Kralendijk', 'America/La_Paz', 'America/Lima', 'America/Los_Angeles', 'America/Lower_Princes', 'America/Maceio', 'America/Managua', 'America/Manaus', 'America/Marigot', 'America/Martinique', 'America/Matamoros', 'America/Mazatlan', 'America/Menominee', 'America/Merida', 'America/Metlakatla', 'America/Mexico_City', 'America/Miquelon', 'America/Moncton', 'America/Monterrey', 'America/Montevideo', 'America/Montserrat', 'America/Nassau', 'America/New_York', 'America/Nipigon', 'America/Nome', 'America/Noronha', 'America/North_Dakota/Beulah', 'America/North_Dakota/Center', 'America/North_Dakota/New_Salem', 'America/Ojinaga', 'America/Panama', 'America/Pangnirtung', 'America/Paramaribo', 'America/Phoenix', 'America/Port-au-Prince', 'America/Port_of_Spain', 'America/Porto_Velho', 'America/Puerto_Rico', 'America/Punta_Arenas', 'America/Rainy_River', 'America/Rankin_Inlet', 'America/Recife', 'America/Regina', 'America/Resolute', 'America/Rio_Branco', 'America/Santarem', 'America/Santiago', 'America/Santo_Domingo', 'America/Sao_Paulo', 'America/Scoresbysund', 'America/Sitka', 'America/St_Barthelemy', 'America/St_Johns', 'America/St_Kitts', 'America/St_Lucia', 'America/St_Thomas', 'America/St_Vincent', 'America/Swift_Current', 'America/Tegucigalpa', 'America/Thule', 'America/Thunder_Bay', 'America/Tijuana', 'America/Toronto', 'America/Tortola', 'America/Vancouver', 'America/Whitehorse', 'America/Winnipeg', 'America/Yakutat', 'America/Yellowknife', 'Antarctica/Casey', 'Antarctica/Davis', 'Antarctica/DumontDUrville', 'Antarctica/Macquarie', 'Antarctica/Mawson', 'Antarctica/McMurdo', 'Antarctica/Palmer', 'Antarctica/Rothera', 'Antarctica/Syowa', 'Antarctica/Troll', 'Antarctica/Vostok', 'Arctic/Longyearbyen', 'Asia/Aden', 'Asia/Almaty', 'Asia/Amman', 'Asia/Anadyr', 'Asia/Aqtau', 'Asia/Aqtobe', 'Asia/Ashgabat', 'Asia/Atyrau', 'Asia/Baghdad', 'Asia/Bahrain', 'Asia/Baku', 'Asia/Bangkok', 'Asia/Barnaul', 'Asia/Beirut', 'Asia/Bishkek', 'Asia/Brunei', 'Asia/Chita', 'Asia/Choibalsan', 'Asia/Colombo', 'Asia/Damascus', 'Asia/Dhaka', 'Asia/Dili', 'Asia/Dubai', 'Asia/Dushanbe', 'Asia/Famagusta', 'Asia/Gaza', 'Asia/Hebron', 'Asia/Ho_Chi_Minh', 'Asia/Hong_Kong', 'Asia/Hovd', 'Asia/Irkutsk', 'Asia/Jakarta', 'Asia/Jayapura', 'Asia/Jerusalem', 'Asia/Kabul', 'Asia/Kamchatka', 'Asia/Karachi', 'Asia/Kathmandu', 'Asia/Khandyga', 'Asia/Kolkata', 'Asia/Krasnoyarsk', 'Asia/Kuala_Lumpur', 'Asia/Kuching', 'Asia/Kuwait', 'Asia/Macau', 'Asia/Magadan', 'Asia/Makassar', 'Asia/Manila', 'Asia/Muscat', 'Asia/Nicosia', 'Asia/Novokuznetsk', 'Asia/Novosibirsk', 'Asia/Omsk', 'Asia/Oral', 'Asia/Phnom_Penh', 'Asia/Pontianak', 'Asia/Pyongyang', 'Asia/Qatar', 'Asia/Qostanay', 'Asia/Qyzylorda', 'Asia/Riyadh', 'Asia/Sakhalin', 'Asia/Samarkand', 'Asia/Seoul', 'Asia/Shanghai', 'Asia/Singapore', 'Asia/Srednekolymsk', 'Asia/Taipei', 'Asia/Tashkent', 'Asia/Tbilisi', 'Asia/Tehran', 'Asia/Thimphu', 'Asia/Tokyo', 'Asia/Tomsk', 'Asia/Ulaanbaatar', 'Asia/Urumqi', 'Asia/Ust-Nera', 'Asia/Vientiane', 'Asia/Vladivostok', 'Asia/Yakutsk', 'Asia/Yangon', 'Asia/Yekaterinburg', 'Asia/Yerevan', 'Atlantic/Azores', 'Atlantic/Bermuda', 'Atlantic/Canary', 'Atlantic/Cape_Verde', 'Atlantic/Faroe', 'Atlantic/Madeira', 'Atlantic/Reykjavik', 'Atlantic/South_Georgia', 'Atlantic/St_Helena', 'Atlantic/Stanley', 'Australia/Adelaide', 'Australia/Brisbane', 'Australia/Broken_Hill', 'Australia/Currie', 'Australia/Darwin', 'Australia/Eucla', 'Australia/Hobart', 'Australia/Lindeman', 'Australia/Lord_Howe', 'Australia/Melbourne', 'Australia/Perth', 'Australia/Sydney', 'Canada/Atlantic', 'Canada/Central', 'Canada/Eastern', 'Canada/Mountain', 'Canada/Newfoundland', 'Canada/Pacific', 'Europe/Amsterdam', 'Europe/Andorra', 'Europe/Astrakhan', 'Europe/Athens', 'Europe/Belgrade', 'Europe/Berlin', 'Europe/Bratislava', 'Europe/Brussels', 'Europe/Bucharest', 'Europe/Budapest', 'Europe/Busingen', 'Europe/Chisinau', 'Europe/Copenhagen', 'Europe/Dublin', 'Europe/Gibraltar', 'Europe/Guernsey', 'Europe/Helsinki', 'Europe/Isle_of_Man', 'Europe/Istanbul', 'Europe/Jersey', 'Europe/Kaliningrad', 'Europe/Kiev', 'Europe/Kirov', 'Europe/Lisbon', 'Europe/Ljubljana', 'Europe/London', 'Europe/Luxembourg', 'Europe/Madrid', 'Europe/Malta', 'Europe/Mariehamn', 'Europe/Minsk', 'Europe/Monaco', 'Europe/Moscow', 'Europe/Oslo', 'Europe/Paris', 'Europe/Podgorica', 'Europe/Prague', 'Europe/Riga', 'Europe/Rome', 'Europe/Samara', 'Europe/San_Marino', 'Europe/Sarajevo', 'Europe/Saratov', 'Europe/Simferopol', 'Europe/Skopje', 'Europe/Sofia', 'Europe/Stockholm', 'Europe/Tallinn', 'Europe/Tirane', 'Europe/Ulyanovsk', 'Europe/Uzhgorod', 'Europe/Vaduz', 'Europe/Vatican', 'Europe/Vienna', 'Europe/Vilnius', 'Europe/Volgograd', 'Europe/Warsaw', 'Europe/Zagreb', 'Europe/Zaporozhye', 'Europe/Zurich', 'GMT', 'Indian/Antananarivo', 'Indian/Chagos', 'Indian/Christmas', 'Indian/Cocos', 'Indian/Comoro', 'Indian/Kerguelen', 'Indian/Mahe', 'Indian/Maldives', 'Indian/Mauritius', 'Indian/Mayotte', 'Indian/Reunion', 'Pacific/Apia', 'Pacific/Auckland', 'Pacific/Bougainville', 'Pacific/Chatham', 'Pacific/Chuuk', 'Pacific/Easter', 'Pacific/Efate', 'Pacific/Enderbury', 'Pacific/Fakaofo', 'Pacific/Fiji', 'Pacific/Funafuti', 'Pacific/Galapagos', 'Pacific/Gambier', 'Pacific/Guadalcanal', 'Pacific/Guam', 'Pacific/Honolulu', 'Pacific/Kiritimati', 'Pacific/Kosrae', 'Pacific/Kwajalein', 'Pacific/Majuro', 'Pacific/Marquesas', 'Pacific/Midway', 'Pacific/Nauru', 'Pacific/Niue', 'Pacific/Norfolk', 'Pacific/Noumea', 'Pacific/Pago_Pago', 'Pacific/Palau', 'Pacific/Pitcairn', 'Pacific/Pohnpei', 'Pacific/Port_Moresby', 'Pacific/Rarotonga', 'Pacific/Saipan', 'Pacific/Tahiti', 'Pacific/Tarawa', 'Pacific/Tongatapu', 'Pacific/Wake', 'Pacific/Wallis', 'US/Alaska', 'US/Arizona', 'US/Central', 'US/Eastern', 'US/Hawaii', 'US/Mountain', 'US/Pacific', 'UTC']\n      time_stamp\n0  1554970740000\n1  1554970800000\n2  1554970860000\n"
    },
    {
     "data": {
      "text/plain": "Timestamp('2019-10-10 00:00:00')"
     },
     "execution_count": 44,
     "metadata": {},
     "output_type": "execute_result"
    }
   ],
   "source": [
    "import pytz\n",
    "print(pytz.common_timezones)\n",
    "\n",
    "# 处理一列\n",
    "df = pd.DataFrame([1554970740000, 1554970800000, 1554970860000],columns = ['time_stamp'])\n",
    "print(df)\n",
    "#先赋予标准时区再转东八区\n",
    "pd.to_datetime(df['time_stamp'],unit='ms').dt.tz_localize('UTC').dt.tz_convert('Asia/Shanghai')\n",
    "\n",
    "# 处理中文\n",
    "pd.to_datetime('2019年10月10日',format='%Y年%m月%d日')"
   ]
  },
  {
   "cell_type": "code",
   "execution_count": 70,
   "metadata": {},
   "outputs": [
    {
     "name": "stdout",
     "output_type": "stream",
     "text": "name  Year   Salary   Bonus\n0   BOSS  2016   999999  100000\n1  Lilei  2016    20000   20000\n2  Lilei  2016    25000   20000\n3    Han  2016     3000    5000\n4   BOSS  2017  9999999  200000\n5   BOSS  2017   999999  300000\n6    Han  2017     3500    3000\n7   BOSS  2017   999999  400000\n<pandas.core.groupby.generic.DataFrameGroupBy object at 0x11d5f0510>\n{'BOSS': Int64Index([0, 4, 5, 7], dtype='int64'), 'Han': Int64Index([3, 6], dtype='int64'), 'Lilei': Int64Index([1, 2], dtype='int64')}\n       Year  Salary  Bonus\nname                      \nBOSS      4       4      4\nHan       2       2      2\nLilei     2       2      2\nBOSS\n   name  Year   Salary   Bonus\n0  BOSS  2016   999999  100000\n4  BOSS  2017  9999999  200000\n5  BOSS  2017   999999  300000\n7  BOSS  2017   999999  400000\nHan\n  name  Year  Salary  Bonus\n3  Han  2016    3000   5000\n6  Han  2017    3500   3000\nLilei\n    name  Year  Salary  Bonus\n1  Lilei  2016   20000  20000\n2  Lilei  2016   25000  20000\n   name  Year   Salary   Bonus\n0  BOSS  2016   999999  100000\n4  BOSS  2017  9999999  200000\n5  BOSS  2017   999999  300000\n7  BOSS  2017   999999  400000\nname\nBOSS     4\nHan      2\nLilei    2\nName: Year, dtype: int64\n('BOSS', 2016)\n   name  Year  Salary   Bonus\n0  BOSS  2016  999999  100000\n('BOSS', 2017)\n   name  Year   Salary   Bonus\n4  BOSS  2017  9999999  200000\n5  BOSS  2017   999999  300000\n7  BOSS  2017   999999  400000\n('Han', 2016)\n  name  Year  Salary  Bonus\n3  Han  2016    3000   5000\n('Han', 2017)\n  name  Year  Salary  Bonus\n6  Han  2017    3500   3000\n('Lilei', 2016)\n    name  Year  Salary  Bonus\n1  Lilei  2016   20000  20000\n2  Lilei  2016   25000  20000\n   name  Year  Salary   Bonus\n0  BOSS  2016  999999  100000\n"
    }
   ],
   "source": [
    "import pandas as pd\n",
    "import numpy as np\n",
    "df=pd.DataFrame({\n",
    "    'name':['BOSS','Lilei','Lilei','Han','BOSS','BOSS','Han','BOSS'],\n",
    "    'Year':[2016,2016,2016,2016,2017,2017,2017,2017],\n",
    "    'Salary':[999999,20000,25000,3000,9999999,999999,3500,999999],\n",
    "    'Bonus':[100000,20000,20000,5000,200000,300000,3000,400000]\n",
    "    })\n",
    "\n",
    "print(df)\n",
    "\n",
    "# 根据name这一列进行分组\n",
    "group_by_name=df.groupby('name')\n",
    "print(group_by_name)\n",
    "\n",
    "# 查看分组\n",
    "print(group_by_name.groups)\n",
    "# 分组后的数量\n",
    "print(group_by_name.count())\n",
    "\n",
    "# # 查看分组的情况\n",
    "for name,group in group_by_name:\n",
    "    print(name)# 组的名字\n",
    "    print(group)# 组具体内容\n",
    "\n",
    "# 可以选择分组\n",
    "print(group_by_name.get_group('BOSS'))\n",
    "    \n",
    "# # 按照某一列进行分组, 将name这一列作为分组的键，对year进行分组\n",
    "group_by_name=df['Year'].groupby(df['name'])\n",
    "print(group_by_name.count())\n",
    "\n",
    "# 按照多列进行分组\n",
    "group_by_name_year=df.groupby(['name','Year'])\n",
    "\n",
    "for name,group in group_by_name_year:\n",
    "    print(name)# 组的名字\n",
    "    print(group)# 组具体内容\n",
    "\n",
    "print(group_by_name_year.get_group(('BOSS',2016)))"
   ]
  },
  {
   "cell_type": "code",
   "execution_count": 81,
   "metadata": {},
   "outputs": [
    {
     "name": "stdout",
     "output_type": "stream",
     "text": "Age Sex\n0    68   F\n1    60   F\n2    64   F\n3    38   F\n4    52   F\n..  ...  ..\n95   66   F\n96   69   M\n97   55   F\n98   29   F\n99   55   M\n\n[100 rows x 2 columns]\n0     (65, 100]\n1      (40, 65]\n2      (40, 65]\n3      (19, 40]\n4      (40, 65]\n        ...    \n95    (65, 100]\n96    (65, 100]\n97     (40, 65]\n98     (19, 40]\n99     (40, 65]\nName: Age, Length: 100, dtype: category\nCategories (3, interval[int64]): [(19, 40] < (40, 65] < (65, 100]]\n           Age  Sex\nAge                \n(19, 40]    37   37\n(40, 65]    54   54\n(65, 100]    9    9\n"
    },
    {
     "data": {
      "text/html": "<div>\n<style scoped>\n    .dataframe tbody tr th:only-of-type {\n        vertical-align: middle;\n    }\n\n    .dataframe tbody tr th {\n        vertical-align: top;\n    }\n\n    .dataframe thead th {\n        text-align: right;\n    }\n</style>\n<table border=\"1\" class=\"dataframe\">\n  <thead>\n    <tr style=\"text-align: right;\">\n      <th>Sex</th>\n      <th>F</th>\n      <th>M</th>\n    </tr>\n    <tr>\n      <th>Age</th>\n      <th></th>\n      <th></th>\n    </tr>\n  </thead>\n  <tbody>\n    <tr>\n      <td>(19, 40]</td>\n      <td>20</td>\n      <td>17</td>\n    </tr>\n    <tr>\n      <td>(40, 65]</td>\n      <td>28</td>\n      <td>26</td>\n    </tr>\n    <tr>\n      <td>(65, 100]</td>\n      <td>6</td>\n      <td>3</td>\n    </tr>\n  </tbody>\n</table>\n</div>",
      "text/plain": "Sex         F   M\nAge              \n(19, 40]   20  17\n(40, 65]   28  26\n(65, 100]   6   3"
     },
     "metadata": {},
     "output_type": "display_data"
    }
   ],
   "source": [
    "# 将某列数据按数据值分成不同范围段进行分组（groupby）运算\n",
    "df = pd.DataFrame({'Age': np.random.randint(20, 70, 100), \n",
    "                    'Sex': np.random.choice(['M', 'F'], 100), \n",
    "                    })\n",
    "print(df)\n",
    "#用cut函数对于年龄进行分段分组，用bins来对年龄进行分段，左开右闭\n",
    "age_groups = pd.cut(df['Age'], bins=[19,40,65,100])\n",
    "print(age_groups)\n",
    "print(df.groupby(age_groups).count())\n",
    "\n",
    "# # 按‘Age’分组范围和性别（sex）进行制作交叉表\n",
    "display(pd.crosstab(age_groups, df['Sex']))"
   ]
  },
  {
   "cell_type": "code",
   "execution_count": 89,
   "metadata": {},
   "outputs": [
    {
     "name": "stdout",
     "output_type": "stream",
     "text": "Data1  Data2 key1 key2\n0      8     10    a    x\n1      0     19    a    y\n2      1     17    b    y\n3      3     13    b    x\n4      1     17    a    y\n      Data1  Data2\nkey1              \na         9     46\nb         4     30\nkey1\na    9\nb    4\nName: Data1, dtype: int64\nkey1\na    9\nb    4\nName: Data1, dtype: int64\n      Data1  Data2\nkey1              \na         9     46\nb         4     30\n"
    },
    {
     "data": {
      "text/html": "<div>\n<style scoped>\n    .dataframe tbody tr th:only-of-type {\n        vertical-align: middle;\n    }\n\n    .dataframe tbody tr th {\n        vertical-align: top;\n    }\n\n    .dataframe thead tr th {\n        text-align: left;\n    }\n\n    .dataframe thead tr:last-of-type th {\n        text-align: right;\n    }\n</style>\n<table border=\"1\" class=\"dataframe\">\n  <thead>\n    <tr>\n      <th></th>\n      <th colspan=\"3\" halign=\"left\">Data1</th>\n      <th colspan=\"3\" halign=\"left\">Data2</th>\n    </tr>\n    <tr>\n      <th></th>\n      <th>sum</th>\n      <th>mean</th>\n      <th>std</th>\n      <th>sum</th>\n      <th>mean</th>\n      <th>std</th>\n    </tr>\n    <tr>\n      <th>key1</th>\n      <th></th>\n      <th></th>\n      <th></th>\n      <th></th>\n      <th></th>\n      <th></th>\n    </tr>\n  </thead>\n  <tbody>\n    <tr>\n      <td>a</td>\n      <td>9</td>\n      <td>3</td>\n      <td>4.358899</td>\n      <td>46</td>\n      <td>15.333333</td>\n      <td>4.725816</td>\n    </tr>\n    <tr>\n      <td>b</td>\n      <td>4</td>\n      <td>2</td>\n      <td>1.414214</td>\n      <td>30</td>\n      <td>15.000000</td>\n      <td>2.828427</td>\n    </tr>\n  </tbody>\n</table>\n</div>",
      "text/plain": "     Data1                Data2                     \n       sum mean       std   sum       mean       std\nkey1                                                \na        9    3  4.358899    46  15.333333  4.725816\nb        4    2  1.414214    30  15.000000  2.828427"
     },
     "metadata": {},
     "output_type": "display_data"
    }
   ],
   "source": [
    "df1=pd.DataFrame({'Data1':np.random.randint(0,10,5),\n",
    "                  'Data2':np.random.randint(10,20,5),\n",
    "                  'key1':list('aabba'),\n",
    "                  'key2':list('xyyxy')})\n",
    "print(df1)\n",
    "\n",
    "# 按key1分组，进行聚合计算\n",
    "# 注意：当分组后进行数值计算时，不是数值类的列（即麻烦列）会被清除\n",
    "print(df1.groupby('key1').sum())\n",
    "# 只算data1\n",
    "print(df1['Data1'].groupby(df1['key1']).sum())\n",
    "print(df1.groupby('key1')['Data1'].sum())\n",
    "print(df1.groupby('key1').agg('sum'))\n",
    "display(df1.groupby('key1').agg(['sum','mean','std']))"
   ]
  },
  {
   "cell_type": "code",
   "execution_count": 92,
   "metadata": {},
   "outputs": [
    {
     "name": "stdout",
     "output_type": "stream",
     "text": "Data1  Data2\nkey1              \na         8      9\nb         2      4\n     Data1                                 Data2                           \n      mean       std count peak_range       mean       std count peak_range\nkey1                                                                       \na        3  4.358899     3          8  15.333333  4.725816     3          9\nb        2  1.414214     2          2  15.000000  2.828427     2          4\n     Data1                            Data2                      \n      mean       std count range       mean       std count range\nkey1                                                             \na        3  4.358899     3     8  15.333333  4.725816     3     9\nb        2  1.414214     2     2  15.000000  2.828427     2     4\n"
    }
   ],
   "source": [
    "# 可自定义函数，传入agg方法中 grouped.agg(func)\n",
    "def peak_range(df):\n",
    "    \"\"\"\n",
    "        返回数值范围\n",
    "    \"\"\"\n",
    "    return df.max() - df.min()\n",
    "\n",
    "print(df1.groupby('key1').agg(peak_range))\n",
    "\n",
    " #同时应用多个聚合函数\n",
    "print(df1.groupby('key1').agg(['mean', 'std', 'count', peak_range])) # 默认列名为函数名\n",
    "print(df1.groupby('key1').agg(['mean', 'std', 'count', ('range', peak_range)])) # 通过元组提供新的列名"
   ]
  },
  {
   "cell_type": "code",
   "execution_count": 93,
   "metadata": {},
   "outputs": [
    {
     "data": {
      "text/html": "<div>\n<style scoped>\n    .dataframe tbody tr th:only-of-type {\n        vertical-align: middle;\n    }\n\n    .dataframe tbody tr th {\n        vertical-align: top;\n    }\n\n    .dataframe thead tr th {\n        text-align: left;\n    }\n\n    .dataframe thead tr:last-of-type th {\n        text-align: right;\n    }\n</style>\n<table border=\"1\" class=\"dataframe\">\n  <thead>\n    <tr>\n      <th></th>\n      <th colspan=\"2\" halign=\"left\">Data1</th>\n      <th>Data2</th>\n    </tr>\n    <tr>\n      <th></th>\n      <th>mean</th>\n      <th>max</th>\n      <th>sum</th>\n    </tr>\n    <tr>\n      <th>key1</th>\n      <th></th>\n      <th></th>\n      <th></th>\n    </tr>\n  </thead>\n  <tbody>\n    <tr>\n      <td>a</td>\n      <td>3</td>\n      <td>8</td>\n      <td>46</td>\n    </tr>\n    <tr>\n      <td>b</td>\n      <td>2</td>\n      <td>3</td>\n      <td>30</td>\n    </tr>\n  </tbody>\n</table>\n</div>",
      "text/plain": "     Data1     Data2\n      mean max   sum\nkey1                \na        3   8    46\nb        2   3    30"
     },
     "execution_count": 93,
     "metadata": {},
     "output_type": "execute_result"
    }
   ],
   "source": [
    "# 给每列作用不同的聚合函数\n",
    "dict_mapping = {\n",
    "    'Data1':['mean','max'],\n",
    "    'Data2':'sum'\n",
    "}\n",
    "df1.groupby('key1').agg(dict_mapping)"
   ]
  },
  {
   "cell_type": "code",
   "execution_count": 94,
   "metadata": {},
   "outputs": [
    {
     "name": "stdout",
     "output_type": "stream",
     "text": "sex smoker  age  weight\n0   F      Y   21     120\n1   F      N   30     100\n2   M      Y   17     132\n3   F      Y   37     140\n4   M      N   40      94\n5   M      Y   18      89\n6   F      Y   26     123\n0    1\n1    1\n2    0\n3    1\n4    1\n5    1\n6    1\nName: age, dtype: int64\n  sex smoker  age  weight\n0   F      Y    1     120\n1   F      N    1     100\n2   M      Y    0     132\n3   F      Y    1     140\n4   M      N    1      94\n5   M      Y    1      89\n6   F      Y    1     123\n"
    }
   ],
   "source": [
    "# 拓展apply函数\n",
    "# apply函数是pandas里面所有函数中自由度最高的函数\n",
    "df1=pd.DataFrame({'sex':list('FFMFMMF'),'smoker':list('YNYYNYY'),'age':[21,30,17,37,40,18,26],'weight':[120,100,132,140,94,89,123]})\n",
    "print(df1)\n",
    "def bin_age(age):\n",
    "    if age >=18:\n",
    "        return 1\n",
    "    else:\n",
    "        return 0\n",
    "\n",
    "# 抽烟的年龄大于等18的\n",
    "print(df1['age'].apply(bin_age))\n",
    "df1['age'] = df1['age'].apply(bin_age)\n",
    "print(df1)"
   ]
  },
  {
   "cell_type": "code",
   "execution_count": 95,
   "metadata": {},
   "outputs": [
    {
     "data": {
      "text/html": "<div>\n<style scoped>\n    .dataframe tbody tr th:only-of-type {\n        vertical-align: middle;\n    }\n\n    .dataframe tbody tr th {\n        vertical-align: top;\n    }\n\n    .dataframe thead th {\n        text-align: right;\n    }\n</style>\n<table border=\"1\" class=\"dataframe\">\n  <thead>\n    <tr style=\"text-align: right;\">\n      <th></th>\n      <th></th>\n      <th>sex</th>\n      <th>smoker</th>\n      <th>age</th>\n      <th>weight</th>\n    </tr>\n    <tr>\n      <th>smoker</th>\n      <th></th>\n      <th></th>\n      <th></th>\n      <th></th>\n      <th></th>\n    </tr>\n  </thead>\n  <tbody>\n    <tr>\n      <td rowspan=\"2\" valign=\"top\">N</td>\n      <td>4</td>\n      <td>M</td>\n      <td>N</td>\n      <td>1</td>\n      <td>94</td>\n    </tr>\n    <tr>\n      <td>1</td>\n      <td>F</td>\n      <td>N</td>\n      <td>1</td>\n      <td>100</td>\n    </tr>\n    <tr>\n      <td rowspan=\"2\" valign=\"top\">Y</td>\n      <td>2</td>\n      <td>M</td>\n      <td>Y</td>\n      <td>0</td>\n      <td>132</td>\n    </tr>\n    <tr>\n      <td>3</td>\n      <td>F</td>\n      <td>Y</td>\n      <td>1</td>\n      <td>140</td>\n    </tr>\n  </tbody>\n</table>\n</div>",
      "text/plain": "         sex smoker  age  weight\nsmoker                          \nN      4   M      N    1      94\n       1   F      N    1     100\nY      2   M      Y    0     132\n       3   F      Y    1     140"
     },
     "execution_count": 95,
     "metadata": {},
     "output_type": "execute_result"
    }
   ],
   "source": [
    "# 取出抽烟和不抽烟的体重前二\n",
    "def top(smoker,col,n=5):\n",
    "    \n",
    "    return smoker.sort_values(by=col)[-n:]\n",
    "\n",
    "df1.groupby('smoker').apply(top,col='weight',n=2)"
   ]
  },
  {
   "cell_type": "code",
   "execution_count": 105,
   "metadata": {},
   "outputs": [
    {
     "name": "stdout",
     "output_type": "stream",
     "text": "[1927.0, 1929.0, 1933.0, 1935.0, 1936.0, 1937.0, 1939.0, 1940.0, 1946.0, 1947.0, 1948.0, 1950.0, 1952.0, 1953.0, 1954.0, 1957.0, 1959.0, 1960.0, 1961.0, 1962.0, 1963.0, 1964.0, 1965.0, 1966.0, 1967.0, 1968.0, 1969.0, 1970.0, 1971.0, 1972.0, 1973.0, 1974.0, 1975.0, 1976.0, 1977.0, 1978.0, 1979.0, 1980.0, 1981.0, 1982.0, 1983.0, 1984.0, 1985.0, 1986.0, 1987.0, 1988.0, 1989.0, 1990.0, 1991.0, 1992.0, 1993.0, 1994.0, 1995.0, 1996.0, 1997.0, 1998.0, 1999.0, 2000.0, 2001.0, 2002.0, 2003.0, 2004.0, 2005.0, 2006.0, 2007.0, 2008.0, 2009.0, 2010.0, 2011.0, 2012.0, 2013.0, 2014.0, 2015.0, 2016.0]\n[  1   1   1   1   1   1   2   1   2   1   1   1   1   2   2   1   1   1\n   1   2   3   5   5   1   1   2   3   4   3   2   5   7   3   2   7   9\n   6  14  17  16  13  23  15  25  30  30  33  27  30  33  44  51  66  93\n 101 115 157 159 179 190 145 181 182 189 152 182 182 168 168 158 163 145\n 128  59]\n"
    },
    {
     "data": {
      "image/png": "[encoded data removed]",
      "text/plain": "<Figure size 1600x640 with 1 Axes>"
     },
     "metadata": {
      "needs_background": "light"
     },
     "output_type": "display_data"
    }
   ],
   "source": [
    "# 读取数据\n",
    "data = pd.read_csv('movie_metadata.csv')\n",
    "# print('数据的形状：', data.shape)\n",
    "# print(data.head())\n",
    "\n",
    "# 2、处理缺失值\n",
    "data = data.dropna(how='any')\n",
    "# print(data.head())\n",
    "\n",
    "# # 查看票房收入统计\n",
    "# # 导演vs票房总收入\n",
    "group_director = data.groupby(by='director_name')['gross'].sum()\n",
    "\n",
    "# # ascending升降序排列，True升序\n",
    "result = group_director.sort_values()\n",
    "# print(type(result))\n",
    "# print(result)\n",
    "\n",
    "# # 电影产量年份趋势\n",
    "from matplotlib import pyplot as plt\n",
    "import random\n",
    "from matplotlib import font_manager\n",
    "\n",
    "movie_years = data.groupby('title_year')['movie_title']\n",
    "\n",
    "print(movie_years.count().index.tolist())\n",
    "\n",
    "\n",
    "print(movie_years.count().values)\n",
    "\n",
    "x = movie_years.count().index.tolist()\n",
    "\n",
    "y = movie_years.count().values\n",
    "\n",
    "plt.figure(figsize=(20,8),dpi=80)\n",
    "\n",
    "plt.plot(x,y)\n",
    "\n",
    "plt.show()"
   ]
  },
  {
   "cell_type": "code",
   "execution_count": 106,
   "metadata": {},
   "outputs": [
    {
     "name": "stdout",
     "output_type": "stream",
     "text": "end\n"
    }
   ],
   "source": [
    "# 1. 使用to_excel创建Excel文件\n",
    "import pandas as pd\n",
    "\n",
    "df = pd.DataFrame({'id':[1,2,3],'name':['zs','ls','ww']})\n",
    "\n",
    "# 默认会有索引，将ID列设置成索引,会返回一个新的df,如果想要在原来的df上修改需要添加参数inplace=True\n",
    "df = df.set_index('id')\n",
    "\n",
    "df.to_excel('./output.xlsx')\n",
    "print('end')"
   ]
  },
  {
   "cell_type": "code",
   "execution_count": 112,
   "metadata": {},
   "outputs": [
    {
     "name": "stdout",
     "output_type": "stream",
     "text": "获取文件中的行和列： (19972, 6)\n获取文件中的列名： Index(['ID', 'Type', 'Title', 'FirstName', 'MiddleName', 'LastName'], dtype='object')\n获取文件中的前几行数据信息：    ID      Type Title FirstName MiddleName    LastName\n0   1  Employee   NaN       Ken          J     Sánchez\n1   2  Employee   NaN     Terri        Lee       Duffy\n2   3  Employee   NaN   Roberto        NaN  Tamburello\n3   4  Employee   NaN       Rob        NaN     Walters\n4   5  Employee   Ms.      Gail          A    Erickson\n获取文件中的后几行数据信息：           ID                 Type Title FirstName MiddleName    LastName\n19967  20773  Individual Customer   NaN   Crystal        NaN         Guo\n19968  20774  Individual Customer   NaN  Isabella          F  Richardson\n19969  20775  Individual Customer   NaN   Crystal          S          He\n19970  20776  Individual Customer   NaN   Crystal        NaN       Zheng\n19971  20777  Individual Customer   NaN   Crystal        NaN          Hu\n"
    }
   ],
   "source": [
    "# 2. 使用pandas读取文件\n",
    "import pandas as pd\n",
    "# 此处需要安装依赖库xlrd\n",
    "people = pd.read_excel('./data/People.xlsx')\n",
    "print('获取文件中的行和列：',people.shape)\n",
    "print('获取文件中的列名：',people.columns)\n",
    "# 默认取前五行\n",
    "print('获取文件中的前几行数据信息：',people.head())\n",
    "print('获取文件中的后几行数据信息：',people.tail())"
   ]
  },
  {
   "cell_type": "code",
   "execution_count": 114,
   "metadata": {},
   "outputs": [
    {
     "name": "stdout",
     "output_type": "stream",
     "text": "Index(['ID', 'Type', 'Title', 'FirstName', 'MiddleName', 'LastName'], dtype='object')\nInt64Index([0, 1, 2, 3, 4, 5], dtype='int64')\n    0         1      2          3           4           5\n0  ID      Type  Title  FirstName  MiddleName    LastName\n1   1  Employee    NaN        Ken           J     Sánchez\n2   2  Employee    NaN      Terri         Lee       Duffy\n3   3  Employee    NaN    Roberto         NaN  Tamburello\n4   4  Employee    NaN        Rob         NaN     Walters\nIndex(['ID1', 'Type1', 'Title1', 'FirstName1', 'MiddleName1', 'LastName1'], dtype='object')\n  ID1     Type1 Title1 FirstName1 MiddleName1   LastName1\n0  ID      Type  Title  FirstName  MiddleName    LastName\n1   1  Employee    NaN        Ken           J     Sánchez\n2   2  Employee    NaN      Terri         Lee       Duffy\n3   3  Employee    NaN    Roberto         NaN  Tamburello\n4   4  Employee    NaN        Rob         NaN     Walters\n"
    }
   ],
   "source": [
    "# 注意常见问题：\n",
    "# 1. 读取的时候，默认会将第一行作为列名，我们可以修改\n",
    "people = pd.read_excel('./data/People1.xlsx',header = 1)\n",
    "print(people.columns)\n",
    "\n",
    "# 2. 如果第一行或者其他行不满足我们的需求时，我们可以自定义\n",
    "# 第一种： 设置header为None，会使用默认的1234\n",
    "people = pd.read_excel('./data/People.xlsx',header = None)\n",
    "print(people.columns)\n",
    "print(people.head())\n",
    "\n",
    "# 第二种： 认为的设置默认值\n",
    "people.columns = ['ID1','Type1','Title1','FirstName1','MiddleName1','LastName1']\n",
    "print(people.columns)\n",
    "print(people.head())"
   ]
  },
  {
   "cell_type": "code",
   "execution_count": 116,
   "metadata": {},
   "outputs": [
    {
     "name": "stdout",
     "output_type": "stream",
     "text": "ID  age\n0   0   18\n1   1   19\n"
    }
   ],
   "source": [
    "# 指定读哪个表\n",
    "sheet = pd.read_excel('./data/sheet.xlsx',sheet_name='sheet2')\n",
    "print(sheet.head())"
   ]
  },
  {
   "cell_type": "code",
   "execution_count": 117,
   "metadata": {},
   "outputs": [
    {
     "name": "stdout",
     "output_type": "stream",
     "text": "ID      Name  InStore\n0 NaN  Book_001      NaN\n1 NaN  Book_002      NaN\n2 NaN  Book_003      NaN\n3 NaN  Book_004      NaN\n4 NaN  Book_005      NaN\n"
    }
   ],
   "source": [
    "# 3. 如果数据在表格中没有顶格写时\n",
    "# skiprows : 跳过几行\n",
    "# usecols: 使用那几列（C,指的就是Excel上的ABCD....）\n",
    "book = pd.read_excel('./data/Books.xlsx',skiprows=3,usecols =\"C:F\")\n",
    "print(book.head())"
   ]
  },
  {
   "cell_type": "code",
   "execution_count": 118,
   "metadata": {},
   "outputs": [
    {
     "name": "stdout",
     "output_type": "stream",
     "text": "0    NaN\n1    NaN\n2    NaN\n3    NaN\n4    NaN\n5    NaN\n6    NaN\n7    NaN\n8    NaN\n9    NaN\n10   NaN\n11   NaN\n12   NaN\n13   NaN\n14   NaN\n15   NaN\n16   NaN\n17   NaN\n18   NaN\n19   NaN\nName: ID, dtype: float64\n0     1.0\n1     NaN\n2     NaN\n3     NaN\n4     NaN\n5     NaN\n6     NaN\n7     NaN\n8     NaN\n9     NaN\n10    NaN\n11    NaN\n12    NaN\n13    NaN\n14    NaN\n15    NaN\n16    NaN\n17    NaN\n18    NaN\n19    NaN\nName: ID, dtype: float64\n"
    }
   ],
   "source": [
    "import pandas as pd\n",
    "book = pd.read_excel('./data/Books.xlsx',skiprows=3,usecols =\"C:F\")\n",
    "print(book['ID'])\n",
    "# 修改ID 的值\n",
    "book[\"ID\"].at[0] = 1\n",
    "print(book['ID'])\n",
    "'''\n",
    "at和iat函数是只能选择某个位置的值，iat是按照行索引和列索引的位置来选取数据的。而at是按照行索引和列索引来选取数据；\n",
    "loc和iloc函数的功能包含at和iat函数的功能\n",
    "'''\n",
    "\n",
    "# 使用for循环给ID列添加内容\n",
    "for i in book.index:\n",
    "    book[\"ID\"].at[i] = i+1\n",
    "    \n",
    "    \n",
    "    # # 给inStore添加交替值\n",
    "book[\"InStore\"] = book[\"InStore\"].astype(str)\n",
    "for i in book.index:\n",
    "    book[\"InStore\"].at[i] = 'Yes' if i%2==0 else \"No\"\n",
    "    \n",
    "book.set_index('ID',inplace=True)\n",
    "book.to_excel('./books1.xlsx')"
   ]
  },
  {
   "cell_type": "code",
   "execution_count": null,
   "metadata": {},
   "outputs": [],
   "source": [
    "import pandas as pd\n",
    "import pymysql\n",
    "\n",
    "conn =pymysql.connect(host='localhost',user='root',passwd='123',db='tieba',port=3306,charset='utf8mb4')\n",
    "\n",
    "query = 'SELECT id,info,url FROM tieba_info'\n",
    "\n",
    "df = pd.read_sql_query(query,conn)\n",
    "print(df)"
   ]
  }
 ]
}